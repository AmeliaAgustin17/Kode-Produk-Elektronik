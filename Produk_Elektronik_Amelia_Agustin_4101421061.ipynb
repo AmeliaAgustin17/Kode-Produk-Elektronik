{
  "nbformat": 4,
  "nbformat_minor": 0,
  "metadata": {
    "colab": {
      "provenance": [],
      "authorship_tag": "ABX9TyN5FLdIKAetEol1VCNYY7x8",
      "include_colab_link": true
    },
    "kernelspec": {
      "name": "python3",
      "display_name": "Python 3"
    },
    "language_info": {
      "name": "python"
    }
  },
  "cells": [
    {
      "cell_type": "markdown",
      "metadata": {
        "id": "view-in-github",
        "colab_type": "text"
      },
      "source": [
        "<a href=\"https://colab.research.google.com/github/AmeliaAgustin17/Kode-Produk-Elektronik/blob/main/Produk_Elektronik_Amelia_Agustin_4101421061.ipynb\" target=\"_parent\"><img src=\"https://colab.research.google.com/assets/colab-badge.svg\" alt=\"Open In Colab\"/></a>"
      ]
    },
    {
      "cell_type": "markdown",
      "source": [
        "## 1. Menampilkan tipe data dan cek missing vallue\n"
      ],
      "metadata": {
        "id": "1-rzOrS1MRgW"
      }
    },
    {
      "cell_type": "code",
      "execution_count": 1,
      "metadata": {
        "id": "X2P7ngibEZgf"
      },
      "outputs": [],
      "source": [
        "import pandas as pd\n",
        "import numpy as np\n",
        "import matplotlib.pyplot as plt"
      ]
    },
    {
      "cell_type": "code",
      "source": [
        "#Pemanggilan data\n",
        "data = pd.read_csv(\"/content/produk_elektronik.csv\")"
      ],
      "metadata": {
        "id": "g8V2N_-sknG0"
      },
      "execution_count": 3,
      "outputs": []
    },
    {
      "cell_type": "code",
      "source": [
        "data.head()"
      ],
      "metadata": {
        "colab": {
          "base_uri": "https://localhost:8080/",
          "height": 226
        },
        "id": "SolwPkjhlofd",
        "outputId": "634ae03d-4ec8-4547-827f-2e7fbac8fadf"
      },
      "execution_count": 4,
      "outputs": [
        {
          "output_type": "execute_result",
          "data": {
            "text/plain": [
              "   produk_id nama_produk    kategori  harga  rating  jumlah_ulasan  \\\n",
              "0          1    Produk_1  Smartwatch  746.0     4.2          273.0   \n",
              "1          2    Produk_2   Headphone  241.0     3.5          239.0   \n",
              "2          3    Produk_3      Tablet  810.0     3.8          209.0   \n",
              "3          4    Produk_4   Headphone  303.0     3.2           59.0   \n",
              "4          5    Produk_5   Headphone  252.0     3.7           76.0   \n",
              "\n",
              "   negara_asal  \n",
              "0        Japan  \n",
              "1       Canada  \n",
              "2       Canada  \n",
              "3  South Korea  \n",
              "4  South Korea  "
            ],
            "text/html": [
              "\n",
              "  <div id=\"df-902c5aa7-0032-4969-a43d-6f3a50098ae0\" class=\"colab-df-container\">\n",
              "    <div>\n",
              "<style scoped>\n",
              "    .dataframe tbody tr th:only-of-type {\n",
              "        vertical-align: middle;\n",
              "    }\n",
              "\n",
              "    .dataframe tbody tr th {\n",
              "        vertical-align: top;\n",
              "    }\n",
              "\n",
              "    .dataframe thead th {\n",
              "        text-align: right;\n",
              "    }\n",
              "</style>\n",
              "<table border=\"1\" class=\"dataframe\">\n",
              "  <thead>\n",
              "    <tr style=\"text-align: right;\">\n",
              "      <th></th>\n",
              "      <th>produk_id</th>\n",
              "      <th>nama_produk</th>\n",
              "      <th>kategori</th>\n",
              "      <th>harga</th>\n",
              "      <th>rating</th>\n",
              "      <th>jumlah_ulasan</th>\n",
              "      <th>negara_asal</th>\n",
              "    </tr>\n",
              "  </thead>\n",
              "  <tbody>\n",
              "    <tr>\n",
              "      <th>0</th>\n",
              "      <td>1</td>\n",
              "      <td>Produk_1</td>\n",
              "      <td>Smartwatch</td>\n",
              "      <td>746.0</td>\n",
              "      <td>4.2</td>\n",
              "      <td>273.0</td>\n",
              "      <td>Japan</td>\n",
              "    </tr>\n",
              "    <tr>\n",
              "      <th>1</th>\n",
              "      <td>2</td>\n",
              "      <td>Produk_2</td>\n",
              "      <td>Headphone</td>\n",
              "      <td>241.0</td>\n",
              "      <td>3.5</td>\n",
              "      <td>239.0</td>\n",
              "      <td>Canada</td>\n",
              "    </tr>\n",
              "    <tr>\n",
              "      <th>2</th>\n",
              "      <td>3</td>\n",
              "      <td>Produk_3</td>\n",
              "      <td>Tablet</td>\n",
              "      <td>810.0</td>\n",
              "      <td>3.8</td>\n",
              "      <td>209.0</td>\n",
              "      <td>Canada</td>\n",
              "    </tr>\n",
              "    <tr>\n",
              "      <th>3</th>\n",
              "      <td>4</td>\n",
              "      <td>Produk_4</td>\n",
              "      <td>Headphone</td>\n",
              "      <td>303.0</td>\n",
              "      <td>3.2</td>\n",
              "      <td>59.0</td>\n",
              "      <td>South Korea</td>\n",
              "    </tr>\n",
              "    <tr>\n",
              "      <th>4</th>\n",
              "      <td>5</td>\n",
              "      <td>Produk_5</td>\n",
              "      <td>Headphone</td>\n",
              "      <td>252.0</td>\n",
              "      <td>3.7</td>\n",
              "      <td>76.0</td>\n",
              "      <td>South Korea</td>\n",
              "    </tr>\n",
              "  </tbody>\n",
              "</table>\n",
              "</div>\n",
              "    <div class=\"colab-df-buttons\">\n",
              "\n",
              "  <div class=\"colab-df-container\">\n",
              "    <button class=\"colab-df-convert\" onclick=\"convertToInteractive('df-902c5aa7-0032-4969-a43d-6f3a50098ae0')\"\n",
              "            title=\"Convert this dataframe to an interactive table.\"\n",
              "            style=\"display:none;\">\n",
              "\n",
              "  <svg xmlns=\"http://www.w3.org/2000/svg\" height=\"24px\" viewBox=\"0 -960 960 960\">\n",
              "    <path d=\"M120-120v-720h720v720H120Zm60-500h600v-160H180v160Zm220 220h160v-160H400v160Zm0 220h160v-160H400v160ZM180-400h160v-160H180v160Zm440 0h160v-160H620v160ZM180-180h160v-160H180v160Zm440 0h160v-160H620v160Z\"/>\n",
              "  </svg>\n",
              "    </button>\n",
              "\n",
              "  <style>\n",
              "    .colab-df-container {\n",
              "      display:flex;\n",
              "      gap: 12px;\n",
              "    }\n",
              "\n",
              "    .colab-df-convert {\n",
              "      background-color: #E8F0FE;\n",
              "      border: none;\n",
              "      border-radius: 50%;\n",
              "      cursor: pointer;\n",
              "      display: none;\n",
              "      fill: #1967D2;\n",
              "      height: 32px;\n",
              "      padding: 0 0 0 0;\n",
              "      width: 32px;\n",
              "    }\n",
              "\n",
              "    .colab-df-convert:hover {\n",
              "      background-color: #E2EBFA;\n",
              "      box-shadow: 0px 1px 2px rgba(60, 64, 67, 0.3), 0px 1px 3px 1px rgba(60, 64, 67, 0.15);\n",
              "      fill: #174EA6;\n",
              "    }\n",
              "\n",
              "    .colab-df-buttons div {\n",
              "      margin-bottom: 4px;\n",
              "    }\n",
              "\n",
              "    [theme=dark] .colab-df-convert {\n",
              "      background-color: #3B4455;\n",
              "      fill: #D2E3FC;\n",
              "    }\n",
              "\n",
              "    [theme=dark] .colab-df-convert:hover {\n",
              "      background-color: #434B5C;\n",
              "      box-shadow: 0px 1px 3px 1px rgba(0, 0, 0, 0.15);\n",
              "      filter: drop-shadow(0px 1px 2px rgba(0, 0, 0, 0.3));\n",
              "      fill: #FFFFFF;\n",
              "    }\n",
              "  </style>\n",
              "\n",
              "    <script>\n",
              "      const buttonEl =\n",
              "        document.querySelector('#df-902c5aa7-0032-4969-a43d-6f3a50098ae0 button.colab-df-convert');\n",
              "      buttonEl.style.display =\n",
              "        google.colab.kernel.accessAllowed ? 'block' : 'none';\n",
              "\n",
              "      async function convertToInteractive(key) {\n",
              "        const element = document.querySelector('#df-902c5aa7-0032-4969-a43d-6f3a50098ae0');\n",
              "        const dataTable =\n",
              "          await google.colab.kernel.invokeFunction('convertToInteractive',\n",
              "                                                    [key], {});\n",
              "        if (!dataTable) return;\n",
              "\n",
              "        const docLinkHtml = 'Like what you see? Visit the ' +\n",
              "          '<a target=\"_blank\" href=https://colab.research.google.com/notebooks/data_table.ipynb>data table notebook</a>'\n",
              "          + ' to learn more about interactive tables.';\n",
              "        element.innerHTML = '';\n",
              "        dataTable['output_type'] = 'display_data';\n",
              "        await google.colab.output.renderOutput(dataTable, element);\n",
              "        const docLink = document.createElement('div');\n",
              "        docLink.innerHTML = docLinkHtml;\n",
              "        element.appendChild(docLink);\n",
              "      }\n",
              "    </script>\n",
              "  </div>\n",
              "\n",
              "\n",
              "<div id=\"df-95fbd9c0-ccc7-4246-a014-73b9dfe8694d\">\n",
              "  <button class=\"colab-df-quickchart\" onclick=\"quickchart('df-95fbd9c0-ccc7-4246-a014-73b9dfe8694d')\"\n",
              "            title=\"Suggest charts\"\n",
              "            style=\"display:none;\">\n",
              "\n",
              "<svg xmlns=\"http://www.w3.org/2000/svg\" height=\"24px\"viewBox=\"0 0 24 24\"\n",
              "     width=\"24px\">\n",
              "    <g>\n",
              "        <path d=\"M19 3H5c-1.1 0-2 .9-2 2v14c0 1.1.9 2 2 2h14c1.1 0 2-.9 2-2V5c0-1.1-.9-2-2-2zM9 17H7v-7h2v7zm4 0h-2V7h2v10zm4 0h-2v-4h2v4z\"/>\n",
              "    </g>\n",
              "</svg>\n",
              "  </button>\n",
              "\n",
              "<style>\n",
              "  .colab-df-quickchart {\n",
              "      --bg-color: #E8F0FE;\n",
              "      --fill-color: #1967D2;\n",
              "      --hover-bg-color: #E2EBFA;\n",
              "      --hover-fill-color: #174EA6;\n",
              "      --disabled-fill-color: #AAA;\n",
              "      --disabled-bg-color: #DDD;\n",
              "  }\n",
              "\n",
              "  [theme=dark] .colab-df-quickchart {\n",
              "      --bg-color: #3B4455;\n",
              "      --fill-color: #D2E3FC;\n",
              "      --hover-bg-color: #434B5C;\n",
              "      --hover-fill-color: #FFFFFF;\n",
              "      --disabled-bg-color: #3B4455;\n",
              "      --disabled-fill-color: #666;\n",
              "  }\n",
              "\n",
              "  .colab-df-quickchart {\n",
              "    background-color: var(--bg-color);\n",
              "    border: none;\n",
              "    border-radius: 50%;\n",
              "    cursor: pointer;\n",
              "    display: none;\n",
              "    fill: var(--fill-color);\n",
              "    height: 32px;\n",
              "    padding: 0;\n",
              "    width: 32px;\n",
              "  }\n",
              "\n",
              "  .colab-df-quickchart:hover {\n",
              "    background-color: var(--hover-bg-color);\n",
              "    box-shadow: 0 1px 2px rgba(60, 64, 67, 0.3), 0 1px 3px 1px rgba(60, 64, 67, 0.15);\n",
              "    fill: var(--button-hover-fill-color);\n",
              "  }\n",
              "\n",
              "  .colab-df-quickchart-complete:disabled,\n",
              "  .colab-df-quickchart-complete:disabled:hover {\n",
              "    background-color: var(--disabled-bg-color);\n",
              "    fill: var(--disabled-fill-color);\n",
              "    box-shadow: none;\n",
              "  }\n",
              "\n",
              "  .colab-df-spinner {\n",
              "    border: 2px solid var(--fill-color);\n",
              "    border-color: transparent;\n",
              "    border-bottom-color: var(--fill-color);\n",
              "    animation:\n",
              "      spin 1s steps(1) infinite;\n",
              "  }\n",
              "\n",
              "  @keyframes spin {\n",
              "    0% {\n",
              "      border-color: transparent;\n",
              "      border-bottom-color: var(--fill-color);\n",
              "      border-left-color: var(--fill-color);\n",
              "    }\n",
              "    20% {\n",
              "      border-color: transparent;\n",
              "      border-left-color: var(--fill-color);\n",
              "      border-top-color: var(--fill-color);\n",
              "    }\n",
              "    30% {\n",
              "      border-color: transparent;\n",
              "      border-left-color: var(--fill-color);\n",
              "      border-top-color: var(--fill-color);\n",
              "      border-right-color: var(--fill-color);\n",
              "    }\n",
              "    40% {\n",
              "      border-color: transparent;\n",
              "      border-right-color: var(--fill-color);\n",
              "      border-top-color: var(--fill-color);\n",
              "    }\n",
              "    60% {\n",
              "      border-color: transparent;\n",
              "      border-right-color: var(--fill-color);\n",
              "    }\n",
              "    80% {\n",
              "      border-color: transparent;\n",
              "      border-right-color: var(--fill-color);\n",
              "      border-bottom-color: var(--fill-color);\n",
              "    }\n",
              "    90% {\n",
              "      border-color: transparent;\n",
              "      border-bottom-color: var(--fill-color);\n",
              "    }\n",
              "  }\n",
              "</style>\n",
              "\n",
              "  <script>\n",
              "    async function quickchart(key) {\n",
              "      const quickchartButtonEl =\n",
              "        document.querySelector('#' + key + ' button');\n",
              "      quickchartButtonEl.disabled = true;  // To prevent multiple clicks.\n",
              "      quickchartButtonEl.classList.add('colab-df-spinner');\n",
              "      try {\n",
              "        const charts = await google.colab.kernel.invokeFunction(\n",
              "            'suggestCharts', [key], {});\n",
              "      } catch (error) {\n",
              "        console.error('Error during call to suggestCharts:', error);\n",
              "      }\n",
              "      quickchartButtonEl.classList.remove('colab-df-spinner');\n",
              "      quickchartButtonEl.classList.add('colab-df-quickchart-complete');\n",
              "    }\n",
              "    (() => {\n",
              "      let quickchartButtonEl =\n",
              "        document.querySelector('#df-95fbd9c0-ccc7-4246-a014-73b9dfe8694d button');\n",
              "      quickchartButtonEl.style.display =\n",
              "        google.colab.kernel.accessAllowed ? 'block' : 'none';\n",
              "    })();\n",
              "  </script>\n",
              "</div>\n",
              "\n",
              "    </div>\n",
              "  </div>\n"
            ],
            "application/vnd.google.colaboratory.intrinsic+json": {
              "type": "dataframe",
              "variable_name": "data",
              "summary": "{\n  \"name\": \"data\",\n  \"rows\": 550,\n  \"fields\": [\n    {\n      \"column\": \"produk_id\",\n      \"properties\": {\n        \"dtype\": \"number\",\n        \"std\": 158,\n        \"min\": 1,\n        \"max\": 550,\n        \"num_unique_values\": 550,\n        \"samples\": [\n          196,\n          80,\n          481\n        ],\n        \"semantic_type\": \"\",\n        \"description\": \"\"\n      }\n    },\n    {\n      \"column\": \"nama_produk\",\n      \"properties\": {\n        \"dtype\": \"string\",\n        \"num_unique_values\": 550,\n        \"samples\": [\n          \"Produk_196\",\n          \"Produk_80\",\n          \"Produk_481\"\n        ],\n        \"semantic_type\": \"\",\n        \"description\": \"\"\n      }\n    },\n    {\n      \"column\": \"kategori\",\n      \"properties\": {\n        \"dtype\": \"category\",\n        \"num_unique_values\": 6,\n        \"samples\": [\n          \"Smartwatch\",\n          \"Headphone\",\n          \"Smartphone\"\n        ],\n        \"semantic_type\": \"\",\n        \"description\": \"\"\n      }\n    },\n    {\n      \"column\": \"harga\",\n      \"properties\": {\n        \"dtype\": \"number\",\n        \"std\": 625.8867249279893,\n        \"min\": -213.0,\n        \"max\": 8341.0,\n        \"num_unique_values\": 394,\n        \"samples\": [\n          388.0,\n          492.0,\n          418.0\n        ],\n        \"semantic_type\": \"\",\n        \"description\": \"\"\n      }\n    },\n    {\n      \"column\": \"rating\",\n      \"properties\": {\n        \"dtype\": \"number\",\n        \"std\": 0.5710523983693329,\n        \"min\": 3.0,\n        \"max\": 5.0,\n        \"num_unique_values\": 21,\n        \"samples\": [\n          4.2,\n          4.3,\n          5.0\n        ],\n        \"semantic_type\": \"\",\n        \"description\": \"\"\n      }\n    },\n    {\n      \"column\": \"jumlah_ulasan\",\n      \"properties\": {\n        \"dtype\": \"number\",\n        \"std\": 142.65537992151366,\n        \"min\": 12.0,\n        \"max\": 499.0,\n        \"num_unique_values\": 327,\n        \"samples\": [\n          212.0,\n          172.0,\n          375.0\n        ],\n        \"semantic_type\": \"\",\n        \"description\": \"\"\n      }\n    },\n    {\n      \"column\": \"negara_asal\",\n      \"properties\": {\n        \"dtype\": \"category\",\n        \"num_unique_values\": 9,\n        \"samples\": [\n          \"India\",\n          \"Canada\",\n          \"Germany\"\n        ],\n        \"semantic_type\": \"\",\n        \"description\": \"\"\n      }\n    }\n  ]\n}"
            }
          },
          "metadata": {},
          "execution_count": 4
        }
      ]
    },
    {
      "cell_type": "code",
      "source": [
        "data.tail(5)"
      ],
      "metadata": {
        "colab": {
          "base_uri": "https://localhost:8080/",
          "height": 226
        },
        "id": "fX2fenmjm6VR",
        "outputId": "e3b080b9-a3f8-4dee-f2c2-3c8fc6dbc2ea"
      },
      "execution_count": 5,
      "outputs": [
        {
          "output_type": "execute_result",
          "data": {
            "text/plain": [
              "     produk_id nama_produk   kategori  harga  rating  jumlah_ulasan  \\\n",
              "545        546  Produk_546     Laptop  496.0     3.9           19.0   \n",
              "546        547  Produk_547  Headphone  628.0     4.7          414.0   \n",
              "547        548  Produk_548     Tablet  465.0     4.3          393.0   \n",
              "548        549  Produk_549     Laptop  495.0     3.1          311.0   \n",
              "549        550  Produk_550     Tablet  388.0     4.3          240.0   \n",
              "\n",
              "    negara_asal  \n",
              "545       China  \n",
              "546         USA  \n",
              "547       India  \n",
              "548     Germany  \n",
              "549     Germany  "
            ],
            "text/html": [
              "\n",
              "  <div id=\"df-3d50f28d-b149-4be6-bac7-f9a45f370627\" class=\"colab-df-container\">\n",
              "    <div>\n",
              "<style scoped>\n",
              "    .dataframe tbody tr th:only-of-type {\n",
              "        vertical-align: middle;\n",
              "    }\n",
              "\n",
              "    .dataframe tbody tr th {\n",
              "        vertical-align: top;\n",
              "    }\n",
              "\n",
              "    .dataframe thead th {\n",
              "        text-align: right;\n",
              "    }\n",
              "</style>\n",
              "<table border=\"1\" class=\"dataframe\">\n",
              "  <thead>\n",
              "    <tr style=\"text-align: right;\">\n",
              "      <th></th>\n",
              "      <th>produk_id</th>\n",
              "      <th>nama_produk</th>\n",
              "      <th>kategori</th>\n",
              "      <th>harga</th>\n",
              "      <th>rating</th>\n",
              "      <th>jumlah_ulasan</th>\n",
              "      <th>negara_asal</th>\n",
              "    </tr>\n",
              "  </thead>\n",
              "  <tbody>\n",
              "    <tr>\n",
              "      <th>545</th>\n",
              "      <td>546</td>\n",
              "      <td>Produk_546</td>\n",
              "      <td>Laptop</td>\n",
              "      <td>496.0</td>\n",
              "      <td>3.9</td>\n",
              "      <td>19.0</td>\n",
              "      <td>China</td>\n",
              "    </tr>\n",
              "    <tr>\n",
              "      <th>546</th>\n",
              "      <td>547</td>\n",
              "      <td>Produk_547</td>\n",
              "      <td>Headphone</td>\n",
              "      <td>628.0</td>\n",
              "      <td>4.7</td>\n",
              "      <td>414.0</td>\n",
              "      <td>USA</td>\n",
              "    </tr>\n",
              "    <tr>\n",
              "      <th>547</th>\n",
              "      <td>548</td>\n",
              "      <td>Produk_548</td>\n",
              "      <td>Tablet</td>\n",
              "      <td>465.0</td>\n",
              "      <td>4.3</td>\n",
              "      <td>393.0</td>\n",
              "      <td>India</td>\n",
              "    </tr>\n",
              "    <tr>\n",
              "      <th>548</th>\n",
              "      <td>549</td>\n",
              "      <td>Produk_549</td>\n",
              "      <td>Laptop</td>\n",
              "      <td>495.0</td>\n",
              "      <td>3.1</td>\n",
              "      <td>311.0</td>\n",
              "      <td>Germany</td>\n",
              "    </tr>\n",
              "    <tr>\n",
              "      <th>549</th>\n",
              "      <td>550</td>\n",
              "      <td>Produk_550</td>\n",
              "      <td>Tablet</td>\n",
              "      <td>388.0</td>\n",
              "      <td>4.3</td>\n",
              "      <td>240.0</td>\n",
              "      <td>Germany</td>\n",
              "    </tr>\n",
              "  </tbody>\n",
              "</table>\n",
              "</div>\n",
              "    <div class=\"colab-df-buttons\">\n",
              "\n",
              "  <div class=\"colab-df-container\">\n",
              "    <button class=\"colab-df-convert\" onclick=\"convertToInteractive('df-3d50f28d-b149-4be6-bac7-f9a45f370627')\"\n",
              "            title=\"Convert this dataframe to an interactive table.\"\n",
              "            style=\"display:none;\">\n",
              "\n",
              "  <svg xmlns=\"http://www.w3.org/2000/svg\" height=\"24px\" viewBox=\"0 -960 960 960\">\n",
              "    <path d=\"M120-120v-720h720v720H120Zm60-500h600v-160H180v160Zm220 220h160v-160H400v160Zm0 220h160v-160H400v160ZM180-400h160v-160H180v160Zm440 0h160v-160H620v160ZM180-180h160v-160H180v160Zm440 0h160v-160H620v160Z\"/>\n",
              "  </svg>\n",
              "    </button>\n",
              "\n",
              "  <style>\n",
              "    .colab-df-container {\n",
              "      display:flex;\n",
              "      gap: 12px;\n",
              "    }\n",
              "\n",
              "    .colab-df-convert {\n",
              "      background-color: #E8F0FE;\n",
              "      border: none;\n",
              "      border-radius: 50%;\n",
              "      cursor: pointer;\n",
              "      display: none;\n",
              "      fill: #1967D2;\n",
              "      height: 32px;\n",
              "      padding: 0 0 0 0;\n",
              "      width: 32px;\n",
              "    }\n",
              "\n",
              "    .colab-df-convert:hover {\n",
              "      background-color: #E2EBFA;\n",
              "      box-shadow: 0px 1px 2px rgba(60, 64, 67, 0.3), 0px 1px 3px 1px rgba(60, 64, 67, 0.15);\n",
              "      fill: #174EA6;\n",
              "    }\n",
              "\n",
              "    .colab-df-buttons div {\n",
              "      margin-bottom: 4px;\n",
              "    }\n",
              "\n",
              "    [theme=dark] .colab-df-convert {\n",
              "      background-color: #3B4455;\n",
              "      fill: #D2E3FC;\n",
              "    }\n",
              "\n",
              "    [theme=dark] .colab-df-convert:hover {\n",
              "      background-color: #434B5C;\n",
              "      box-shadow: 0px 1px 3px 1px rgba(0, 0, 0, 0.15);\n",
              "      filter: drop-shadow(0px 1px 2px rgba(0, 0, 0, 0.3));\n",
              "      fill: #FFFFFF;\n",
              "    }\n",
              "  </style>\n",
              "\n",
              "    <script>\n",
              "      const buttonEl =\n",
              "        document.querySelector('#df-3d50f28d-b149-4be6-bac7-f9a45f370627 button.colab-df-convert');\n",
              "      buttonEl.style.display =\n",
              "        google.colab.kernel.accessAllowed ? 'block' : 'none';\n",
              "\n",
              "      async function convertToInteractive(key) {\n",
              "        const element = document.querySelector('#df-3d50f28d-b149-4be6-bac7-f9a45f370627');\n",
              "        const dataTable =\n",
              "          await google.colab.kernel.invokeFunction('convertToInteractive',\n",
              "                                                    [key], {});\n",
              "        if (!dataTable) return;\n",
              "\n",
              "        const docLinkHtml = 'Like what you see? Visit the ' +\n",
              "          '<a target=\"_blank\" href=https://colab.research.google.com/notebooks/data_table.ipynb>data table notebook</a>'\n",
              "          + ' to learn more about interactive tables.';\n",
              "        element.innerHTML = '';\n",
              "        dataTable['output_type'] = 'display_data';\n",
              "        await google.colab.output.renderOutput(dataTable, element);\n",
              "        const docLink = document.createElement('div');\n",
              "        docLink.innerHTML = docLinkHtml;\n",
              "        element.appendChild(docLink);\n",
              "      }\n",
              "    </script>\n",
              "  </div>\n",
              "\n",
              "\n",
              "<div id=\"df-4bd37090-3b83-420d-b674-85c6674f619b\">\n",
              "  <button class=\"colab-df-quickchart\" onclick=\"quickchart('df-4bd37090-3b83-420d-b674-85c6674f619b')\"\n",
              "            title=\"Suggest charts\"\n",
              "            style=\"display:none;\">\n",
              "\n",
              "<svg xmlns=\"http://www.w3.org/2000/svg\" height=\"24px\"viewBox=\"0 0 24 24\"\n",
              "     width=\"24px\">\n",
              "    <g>\n",
              "        <path d=\"M19 3H5c-1.1 0-2 .9-2 2v14c0 1.1.9 2 2 2h14c1.1 0 2-.9 2-2V5c0-1.1-.9-2-2-2zM9 17H7v-7h2v7zm4 0h-2V7h2v10zm4 0h-2v-4h2v4z\"/>\n",
              "    </g>\n",
              "</svg>\n",
              "  </button>\n",
              "\n",
              "<style>\n",
              "  .colab-df-quickchart {\n",
              "      --bg-color: #E8F0FE;\n",
              "      --fill-color: #1967D2;\n",
              "      --hover-bg-color: #E2EBFA;\n",
              "      --hover-fill-color: #174EA6;\n",
              "      --disabled-fill-color: #AAA;\n",
              "      --disabled-bg-color: #DDD;\n",
              "  }\n",
              "\n",
              "  [theme=dark] .colab-df-quickchart {\n",
              "      --bg-color: #3B4455;\n",
              "      --fill-color: #D2E3FC;\n",
              "      --hover-bg-color: #434B5C;\n",
              "      --hover-fill-color: #FFFFFF;\n",
              "      --disabled-bg-color: #3B4455;\n",
              "      --disabled-fill-color: #666;\n",
              "  }\n",
              "\n",
              "  .colab-df-quickchart {\n",
              "    background-color: var(--bg-color);\n",
              "    border: none;\n",
              "    border-radius: 50%;\n",
              "    cursor: pointer;\n",
              "    display: none;\n",
              "    fill: var(--fill-color);\n",
              "    height: 32px;\n",
              "    padding: 0;\n",
              "    width: 32px;\n",
              "  }\n",
              "\n",
              "  .colab-df-quickchart:hover {\n",
              "    background-color: var(--hover-bg-color);\n",
              "    box-shadow: 0 1px 2px rgba(60, 64, 67, 0.3), 0 1px 3px 1px rgba(60, 64, 67, 0.15);\n",
              "    fill: var(--button-hover-fill-color);\n",
              "  }\n",
              "\n",
              "  .colab-df-quickchart-complete:disabled,\n",
              "  .colab-df-quickchart-complete:disabled:hover {\n",
              "    background-color: var(--disabled-bg-color);\n",
              "    fill: var(--disabled-fill-color);\n",
              "    box-shadow: none;\n",
              "  }\n",
              "\n",
              "  .colab-df-spinner {\n",
              "    border: 2px solid var(--fill-color);\n",
              "    border-color: transparent;\n",
              "    border-bottom-color: var(--fill-color);\n",
              "    animation:\n",
              "      spin 1s steps(1) infinite;\n",
              "  }\n",
              "\n",
              "  @keyframes spin {\n",
              "    0% {\n",
              "      border-color: transparent;\n",
              "      border-bottom-color: var(--fill-color);\n",
              "      border-left-color: var(--fill-color);\n",
              "    }\n",
              "    20% {\n",
              "      border-color: transparent;\n",
              "      border-left-color: var(--fill-color);\n",
              "      border-top-color: var(--fill-color);\n",
              "    }\n",
              "    30% {\n",
              "      border-color: transparent;\n",
              "      border-left-color: var(--fill-color);\n",
              "      border-top-color: var(--fill-color);\n",
              "      border-right-color: var(--fill-color);\n",
              "    }\n",
              "    40% {\n",
              "      border-color: transparent;\n",
              "      border-right-color: var(--fill-color);\n",
              "      border-top-color: var(--fill-color);\n",
              "    }\n",
              "    60% {\n",
              "      border-color: transparent;\n",
              "      border-right-color: var(--fill-color);\n",
              "    }\n",
              "    80% {\n",
              "      border-color: transparent;\n",
              "      border-right-color: var(--fill-color);\n",
              "      border-bottom-color: var(--fill-color);\n",
              "    }\n",
              "    90% {\n",
              "      border-color: transparent;\n",
              "      border-bottom-color: var(--fill-color);\n",
              "    }\n",
              "  }\n",
              "</style>\n",
              "\n",
              "  <script>\n",
              "    async function quickchart(key) {\n",
              "      const quickchartButtonEl =\n",
              "        document.querySelector('#' + key + ' button');\n",
              "      quickchartButtonEl.disabled = true;  // To prevent multiple clicks.\n",
              "      quickchartButtonEl.classList.add('colab-df-spinner');\n",
              "      try {\n",
              "        const charts = await google.colab.kernel.invokeFunction(\n",
              "            'suggestCharts', [key], {});\n",
              "      } catch (error) {\n",
              "        console.error('Error during call to suggestCharts:', error);\n",
              "      }\n",
              "      quickchartButtonEl.classList.remove('colab-df-spinner');\n",
              "      quickchartButtonEl.classList.add('colab-df-quickchart-complete');\n",
              "    }\n",
              "    (() => {\n",
              "      let quickchartButtonEl =\n",
              "        document.querySelector('#df-4bd37090-3b83-420d-b674-85c6674f619b button');\n",
              "      quickchartButtonEl.style.display =\n",
              "        google.colab.kernel.accessAllowed ? 'block' : 'none';\n",
              "    })();\n",
              "  </script>\n",
              "</div>\n",
              "\n",
              "    </div>\n",
              "  </div>\n"
            ],
            "application/vnd.google.colaboratory.intrinsic+json": {
              "type": "dataframe",
              "summary": "{\n  \"name\": \"data\",\n  \"rows\": 5,\n  \"fields\": [\n    {\n      \"column\": \"produk_id\",\n      \"properties\": {\n        \"dtype\": \"number\",\n        \"std\": 1,\n        \"min\": 546,\n        \"max\": 550,\n        \"num_unique_values\": 5,\n        \"samples\": [\n          547,\n          550,\n          548\n        ],\n        \"semantic_type\": \"\",\n        \"description\": \"\"\n      }\n    },\n    {\n      \"column\": \"nama_produk\",\n      \"properties\": {\n        \"dtype\": \"string\",\n        \"num_unique_values\": 5,\n        \"samples\": [\n          \"Produk_547\",\n          \"Produk_550\",\n          \"Produk_548\"\n        ],\n        \"semantic_type\": \"\",\n        \"description\": \"\"\n      }\n    },\n    {\n      \"column\": \"kategori\",\n      \"properties\": {\n        \"dtype\": \"string\",\n        \"num_unique_values\": 3,\n        \"samples\": [\n          \"Laptop\",\n          \"Headphone\",\n          \"Tablet\"\n        ],\n        \"semantic_type\": \"\",\n        \"description\": \"\"\n      }\n    },\n    {\n      \"column\": \"harga\",\n      \"properties\": {\n        \"dtype\": \"number\",\n        \"std\": 86.65621731878215,\n        \"min\": 388.0,\n        \"max\": 628.0,\n        \"num_unique_values\": 5,\n        \"samples\": [\n          628.0,\n          388.0,\n          465.0\n        ],\n        \"semantic_type\": \"\",\n        \"description\": \"\"\n      }\n    },\n    {\n      \"column\": \"rating\",\n      \"properties\": {\n        \"dtype\": \"number\",\n        \"std\": 0.6066300355241241,\n        \"min\": 3.1,\n        \"max\": 4.7,\n        \"num_unique_values\": 4,\n        \"samples\": [\n          4.7,\n          3.1,\n          3.9\n        ],\n        \"semantic_type\": \"\",\n        \"description\": \"\"\n      }\n    },\n    {\n      \"column\": \"jumlah_ulasan\",\n      \"properties\": {\n        \"dtype\": \"number\",\n        \"std\": 159.13924720193947,\n        \"min\": 19.0,\n        \"max\": 414.0,\n        \"num_unique_values\": 5,\n        \"samples\": [\n          414.0,\n          240.0,\n          393.0\n        ],\n        \"semantic_type\": \"\",\n        \"description\": \"\"\n      }\n    },\n    {\n      \"column\": \"negara_asal\",\n      \"properties\": {\n        \"dtype\": \"string\",\n        \"num_unique_values\": 4,\n        \"samples\": [\n          \"USA\",\n          \"Germany\",\n          \"China\"\n        ],\n        \"semantic_type\": \"\",\n        \"description\": \"\"\n      }\n    }\n  ]\n}"
            }
          },
          "metadata": {},
          "execution_count": 5
        }
      ]
    },
    {
      "cell_type": "code",
      "source": [
        "#melihat statistika deskriptif\n",
        "data.describe()"
      ],
      "metadata": {
        "colab": {
          "base_uri": "https://localhost:8080/",
          "height": 300
        },
        "id": "kHdlKvJym4mp",
        "outputId": "6f978f64-d07e-4f16-c0ef-f38d5051a9c3"
      },
      "execution_count": 6,
      "outputs": [
        {
          "output_type": "execute_result",
          "data": {
            "text/plain": [
              "        produk_id        harga      rating  jumlah_ulasan\n",
              "count  550.000000   520.000000  500.000000     530.000000\n",
              "mean   275.500000   565.715385    4.005600     259.671698\n",
              "std    158.915596   625.886725    0.571052     142.655380\n",
              "min      1.000000  -213.000000    3.000000      12.000000\n",
              "25%    138.250000   374.000000    3.500000     139.000000\n",
              "50%    275.500000   516.000000    4.000000     262.500000\n",
              "75%    412.750000   656.250000    4.500000     390.750000\n",
              "max    550.000000  8341.000000    5.000000     499.000000"
            ],
            "text/html": [
              "\n",
              "  <div id=\"df-df353cfb-cc77-4e58-80a7-3ca10f5d2e30\" class=\"colab-df-container\">\n",
              "    <div>\n",
              "<style scoped>\n",
              "    .dataframe tbody tr th:only-of-type {\n",
              "        vertical-align: middle;\n",
              "    }\n",
              "\n",
              "    .dataframe tbody tr th {\n",
              "        vertical-align: top;\n",
              "    }\n",
              "\n",
              "    .dataframe thead th {\n",
              "        text-align: right;\n",
              "    }\n",
              "</style>\n",
              "<table border=\"1\" class=\"dataframe\">\n",
              "  <thead>\n",
              "    <tr style=\"text-align: right;\">\n",
              "      <th></th>\n",
              "      <th>produk_id</th>\n",
              "      <th>harga</th>\n",
              "      <th>rating</th>\n",
              "      <th>jumlah_ulasan</th>\n",
              "    </tr>\n",
              "  </thead>\n",
              "  <tbody>\n",
              "    <tr>\n",
              "      <th>count</th>\n",
              "      <td>550.000000</td>\n",
              "      <td>520.000000</td>\n",
              "      <td>500.000000</td>\n",
              "      <td>530.000000</td>\n",
              "    </tr>\n",
              "    <tr>\n",
              "      <th>mean</th>\n",
              "      <td>275.500000</td>\n",
              "      <td>565.715385</td>\n",
              "      <td>4.005600</td>\n",
              "      <td>259.671698</td>\n",
              "    </tr>\n",
              "    <tr>\n",
              "      <th>std</th>\n",
              "      <td>158.915596</td>\n",
              "      <td>625.886725</td>\n",
              "      <td>0.571052</td>\n",
              "      <td>142.655380</td>\n",
              "    </tr>\n",
              "    <tr>\n",
              "      <th>min</th>\n",
              "      <td>1.000000</td>\n",
              "      <td>-213.000000</td>\n",
              "      <td>3.000000</td>\n",
              "      <td>12.000000</td>\n",
              "    </tr>\n",
              "    <tr>\n",
              "      <th>25%</th>\n",
              "      <td>138.250000</td>\n",
              "      <td>374.000000</td>\n",
              "      <td>3.500000</td>\n",
              "      <td>139.000000</td>\n",
              "    </tr>\n",
              "    <tr>\n",
              "      <th>50%</th>\n",
              "      <td>275.500000</td>\n",
              "      <td>516.000000</td>\n",
              "      <td>4.000000</td>\n",
              "      <td>262.500000</td>\n",
              "    </tr>\n",
              "    <tr>\n",
              "      <th>75%</th>\n",
              "      <td>412.750000</td>\n",
              "      <td>656.250000</td>\n",
              "      <td>4.500000</td>\n",
              "      <td>390.750000</td>\n",
              "    </tr>\n",
              "    <tr>\n",
              "      <th>max</th>\n",
              "      <td>550.000000</td>\n",
              "      <td>8341.000000</td>\n",
              "      <td>5.000000</td>\n",
              "      <td>499.000000</td>\n",
              "    </tr>\n",
              "  </tbody>\n",
              "</table>\n",
              "</div>\n",
              "    <div class=\"colab-df-buttons\">\n",
              "\n",
              "  <div class=\"colab-df-container\">\n",
              "    <button class=\"colab-df-convert\" onclick=\"convertToInteractive('df-df353cfb-cc77-4e58-80a7-3ca10f5d2e30')\"\n",
              "            title=\"Convert this dataframe to an interactive table.\"\n",
              "            style=\"display:none;\">\n",
              "\n",
              "  <svg xmlns=\"http://www.w3.org/2000/svg\" height=\"24px\" viewBox=\"0 -960 960 960\">\n",
              "    <path d=\"M120-120v-720h720v720H120Zm60-500h600v-160H180v160Zm220 220h160v-160H400v160Zm0 220h160v-160H400v160ZM180-400h160v-160H180v160Zm440 0h160v-160H620v160ZM180-180h160v-160H180v160Zm440 0h160v-160H620v160Z\"/>\n",
              "  </svg>\n",
              "    </button>\n",
              "\n",
              "  <style>\n",
              "    .colab-df-container {\n",
              "      display:flex;\n",
              "      gap: 12px;\n",
              "    }\n",
              "\n",
              "    .colab-df-convert {\n",
              "      background-color: #E8F0FE;\n",
              "      border: none;\n",
              "      border-radius: 50%;\n",
              "      cursor: pointer;\n",
              "      display: none;\n",
              "      fill: #1967D2;\n",
              "      height: 32px;\n",
              "      padding: 0 0 0 0;\n",
              "      width: 32px;\n",
              "    }\n",
              "\n",
              "    .colab-df-convert:hover {\n",
              "      background-color: #E2EBFA;\n",
              "      box-shadow: 0px 1px 2px rgba(60, 64, 67, 0.3), 0px 1px 3px 1px rgba(60, 64, 67, 0.15);\n",
              "      fill: #174EA6;\n",
              "    }\n",
              "\n",
              "    .colab-df-buttons div {\n",
              "      margin-bottom: 4px;\n",
              "    }\n",
              "\n",
              "    [theme=dark] .colab-df-convert {\n",
              "      background-color: #3B4455;\n",
              "      fill: #D2E3FC;\n",
              "    }\n",
              "\n",
              "    [theme=dark] .colab-df-convert:hover {\n",
              "      background-color: #434B5C;\n",
              "      box-shadow: 0px 1px 3px 1px rgba(0, 0, 0, 0.15);\n",
              "      filter: drop-shadow(0px 1px 2px rgba(0, 0, 0, 0.3));\n",
              "      fill: #FFFFFF;\n",
              "    }\n",
              "  </style>\n",
              "\n",
              "    <script>\n",
              "      const buttonEl =\n",
              "        document.querySelector('#df-df353cfb-cc77-4e58-80a7-3ca10f5d2e30 button.colab-df-convert');\n",
              "      buttonEl.style.display =\n",
              "        google.colab.kernel.accessAllowed ? 'block' : 'none';\n",
              "\n",
              "      async function convertToInteractive(key) {\n",
              "        const element = document.querySelector('#df-df353cfb-cc77-4e58-80a7-3ca10f5d2e30');\n",
              "        const dataTable =\n",
              "          await google.colab.kernel.invokeFunction('convertToInteractive',\n",
              "                                                    [key], {});\n",
              "        if (!dataTable) return;\n",
              "\n",
              "        const docLinkHtml = 'Like what you see? Visit the ' +\n",
              "          '<a target=\"_blank\" href=https://colab.research.google.com/notebooks/data_table.ipynb>data table notebook</a>'\n",
              "          + ' to learn more about interactive tables.';\n",
              "        element.innerHTML = '';\n",
              "        dataTable['output_type'] = 'display_data';\n",
              "        await google.colab.output.renderOutput(dataTable, element);\n",
              "        const docLink = document.createElement('div');\n",
              "        docLink.innerHTML = docLinkHtml;\n",
              "        element.appendChild(docLink);\n",
              "      }\n",
              "    </script>\n",
              "  </div>\n",
              "\n",
              "\n",
              "<div id=\"df-fd65c581-e5be-4c01-8693-d19f0c76447b\">\n",
              "  <button class=\"colab-df-quickchart\" onclick=\"quickchart('df-fd65c581-e5be-4c01-8693-d19f0c76447b')\"\n",
              "            title=\"Suggest charts\"\n",
              "            style=\"display:none;\">\n",
              "\n",
              "<svg xmlns=\"http://www.w3.org/2000/svg\" height=\"24px\"viewBox=\"0 0 24 24\"\n",
              "     width=\"24px\">\n",
              "    <g>\n",
              "        <path d=\"M19 3H5c-1.1 0-2 .9-2 2v14c0 1.1.9 2 2 2h14c1.1 0 2-.9 2-2V5c0-1.1-.9-2-2-2zM9 17H7v-7h2v7zm4 0h-2V7h2v10zm4 0h-2v-4h2v4z\"/>\n",
              "    </g>\n",
              "</svg>\n",
              "  </button>\n",
              "\n",
              "<style>\n",
              "  .colab-df-quickchart {\n",
              "      --bg-color: #E8F0FE;\n",
              "      --fill-color: #1967D2;\n",
              "      --hover-bg-color: #E2EBFA;\n",
              "      --hover-fill-color: #174EA6;\n",
              "      --disabled-fill-color: #AAA;\n",
              "      --disabled-bg-color: #DDD;\n",
              "  }\n",
              "\n",
              "  [theme=dark] .colab-df-quickchart {\n",
              "      --bg-color: #3B4455;\n",
              "      --fill-color: #D2E3FC;\n",
              "      --hover-bg-color: #434B5C;\n",
              "      --hover-fill-color: #FFFFFF;\n",
              "      --disabled-bg-color: #3B4455;\n",
              "      --disabled-fill-color: #666;\n",
              "  }\n",
              "\n",
              "  .colab-df-quickchart {\n",
              "    background-color: var(--bg-color);\n",
              "    border: none;\n",
              "    border-radius: 50%;\n",
              "    cursor: pointer;\n",
              "    display: none;\n",
              "    fill: var(--fill-color);\n",
              "    height: 32px;\n",
              "    padding: 0;\n",
              "    width: 32px;\n",
              "  }\n",
              "\n",
              "  .colab-df-quickchart:hover {\n",
              "    background-color: var(--hover-bg-color);\n",
              "    box-shadow: 0 1px 2px rgba(60, 64, 67, 0.3), 0 1px 3px 1px rgba(60, 64, 67, 0.15);\n",
              "    fill: var(--button-hover-fill-color);\n",
              "  }\n",
              "\n",
              "  .colab-df-quickchart-complete:disabled,\n",
              "  .colab-df-quickchart-complete:disabled:hover {\n",
              "    background-color: var(--disabled-bg-color);\n",
              "    fill: var(--disabled-fill-color);\n",
              "    box-shadow: none;\n",
              "  }\n",
              "\n",
              "  .colab-df-spinner {\n",
              "    border: 2px solid var(--fill-color);\n",
              "    border-color: transparent;\n",
              "    border-bottom-color: var(--fill-color);\n",
              "    animation:\n",
              "      spin 1s steps(1) infinite;\n",
              "  }\n",
              "\n",
              "  @keyframes spin {\n",
              "    0% {\n",
              "      border-color: transparent;\n",
              "      border-bottom-color: var(--fill-color);\n",
              "      border-left-color: var(--fill-color);\n",
              "    }\n",
              "    20% {\n",
              "      border-color: transparent;\n",
              "      border-left-color: var(--fill-color);\n",
              "      border-top-color: var(--fill-color);\n",
              "    }\n",
              "    30% {\n",
              "      border-color: transparent;\n",
              "      border-left-color: var(--fill-color);\n",
              "      border-top-color: var(--fill-color);\n",
              "      border-right-color: var(--fill-color);\n",
              "    }\n",
              "    40% {\n",
              "      border-color: transparent;\n",
              "      border-right-color: var(--fill-color);\n",
              "      border-top-color: var(--fill-color);\n",
              "    }\n",
              "    60% {\n",
              "      border-color: transparent;\n",
              "      border-right-color: var(--fill-color);\n",
              "    }\n",
              "    80% {\n",
              "      border-color: transparent;\n",
              "      border-right-color: var(--fill-color);\n",
              "      border-bottom-color: var(--fill-color);\n",
              "    }\n",
              "    90% {\n",
              "      border-color: transparent;\n",
              "      border-bottom-color: var(--fill-color);\n",
              "    }\n",
              "  }\n",
              "</style>\n",
              "\n",
              "  <script>\n",
              "    async function quickchart(key) {\n",
              "      const quickchartButtonEl =\n",
              "        document.querySelector('#' + key + ' button');\n",
              "      quickchartButtonEl.disabled = true;  // To prevent multiple clicks.\n",
              "      quickchartButtonEl.classList.add('colab-df-spinner');\n",
              "      try {\n",
              "        const charts = await google.colab.kernel.invokeFunction(\n",
              "            'suggestCharts', [key], {});\n",
              "      } catch (error) {\n",
              "        console.error('Error during call to suggestCharts:', error);\n",
              "      }\n",
              "      quickchartButtonEl.classList.remove('colab-df-spinner');\n",
              "      quickchartButtonEl.classList.add('colab-df-quickchart-complete');\n",
              "    }\n",
              "    (() => {\n",
              "      let quickchartButtonEl =\n",
              "        document.querySelector('#df-fd65c581-e5be-4c01-8693-d19f0c76447b button');\n",
              "      quickchartButtonEl.style.display =\n",
              "        google.colab.kernel.accessAllowed ? 'block' : 'none';\n",
              "    })();\n",
              "  </script>\n",
              "</div>\n",
              "\n",
              "    </div>\n",
              "  </div>\n"
            ],
            "application/vnd.google.colaboratory.intrinsic+json": {
              "type": "dataframe",
              "summary": "{\n  \"name\": \"data\",\n  \"rows\": 8,\n  \"fields\": [\n    {\n      \"column\": \"produk_id\",\n      \"properties\": {\n        \"dtype\": \"number\",\n        \"std\": 197.9179596669068,\n        \"min\": 1.0,\n        \"max\": 550.0,\n        \"num_unique_values\": 6,\n        \"samples\": [\n          550.0,\n          275.5,\n          412.75\n        ],\n        \"semantic_type\": \"\",\n        \"description\": \"\"\n      }\n    },\n    {\n      \"column\": \"harga\",\n      \"properties\": {\n        \"dtype\": \"number\",\n        \"std\": 2808.96296621019,\n        \"min\": -213.0,\n        \"max\": 8341.0,\n        \"num_unique_values\": 8,\n        \"samples\": [\n          565.7153846153847,\n          516.0,\n          520.0\n        ],\n        \"semantic_type\": \"\",\n        \"description\": \"\"\n      }\n    },\n    {\n      \"column\": \"rating\",\n      \"properties\": {\n        \"dtype\": \"number\",\n        \"std\": 175.54050729187298,\n        \"min\": 0.5710523983693329,\n        \"max\": 500.0,\n        \"num_unique_values\": 8,\n        \"samples\": [\n          4.0056,\n          4.0,\n          500.0\n        ],\n        \"semantic_type\": \"\",\n        \"description\": \"\"\n      }\n    },\n    {\n      \"column\": \"jumlah_ulasan\",\n      \"properties\": {\n        \"dtype\": \"number\",\n        \"std\": 182.83956735825046,\n        \"min\": 12.0,\n        \"max\": 530.0,\n        \"num_unique_values\": 8,\n        \"samples\": [\n          259.6716981132075,\n          262.5,\n          530.0\n        ],\n        \"semantic_type\": \"\",\n        \"description\": \"\"\n      }\n    }\n  ]\n}"
            }
          },
          "metadata": {},
          "execution_count": 6
        }
      ]
    },
    {
      "cell_type": "code",
      "source": [
        "data.info()"
      ],
      "metadata": {
        "colab": {
          "base_uri": "https://localhost:8080/"
        },
        "id": "fjgqjcfsncUk",
        "outputId": "b27f2148-01d7-4179-d737-65901c1883b0"
      },
      "execution_count": 7,
      "outputs": [
        {
          "output_type": "stream",
          "name": "stdout",
          "text": [
            "<class 'pandas.core.frame.DataFrame'>\n",
            "RangeIndex: 550 entries, 0 to 549\n",
            "Data columns (total 7 columns):\n",
            " #   Column         Non-Null Count  Dtype  \n",
            "---  ------         --------------  -----  \n",
            " 0   produk_id      550 non-null    int64  \n",
            " 1   nama_produk    550 non-null    object \n",
            " 2   kategori       550 non-null    object \n",
            " 3   harga          520 non-null    float64\n",
            " 4   rating         500 non-null    float64\n",
            " 5   jumlah_ulasan  530 non-null    float64\n",
            " 6   negara_asal    550 non-null    object \n",
            "dtypes: float64(3), int64(1), object(3)\n",
            "memory usage: 30.2+ KB\n"
          ]
        }
      ]
    },
    {
      "cell_type": "markdown",
      "source": [
        "Berdasarkan output diatas, dapat disimpulkan bahwa dataset tersebut, memiliki total: 7 kolom, dengan jumlah maksimal baris untuk setiap kolom sebanyak: 550 baris. Akan tetapi terdapat beberapa kolom yang memiliki baris < 550, maka akan dilakukan proses identifikasi lebih lanjut\n"
      ],
      "metadata": {
        "id": "5K3e8Lr1nttf"
      }
    },
    {
      "cell_type": "code",
      "source": [
        "data.isnull()"
      ],
      "metadata": {
        "colab": {
          "base_uri": "https://localhost:8080/",
          "height": 443
        },
        "id": "lULWv-0qowo8",
        "outputId": "d40b5517-0a6b-4ccb-f913-c4c6b504e5b3"
      },
      "execution_count": 8,
      "outputs": [
        {
          "output_type": "execute_result",
          "data": {
            "text/plain": [
              "     produk_id  nama_produk  kategori  harga  rating  jumlah_ulasan  \\\n",
              "0        False        False     False  False   False          False   \n",
              "1        False        False     False  False   False          False   \n",
              "2        False        False     False  False   False          False   \n",
              "3        False        False     False  False   False          False   \n",
              "4        False        False     False  False   False          False   \n",
              "..         ...          ...       ...    ...     ...            ...   \n",
              "545      False        False     False  False   False          False   \n",
              "546      False        False     False  False   False          False   \n",
              "547      False        False     False  False   False          False   \n",
              "548      False        False     False  False   False          False   \n",
              "549      False        False     False  False   False          False   \n",
              "\n",
              "     negara_asal  \n",
              "0          False  \n",
              "1          False  \n",
              "2          False  \n",
              "3          False  \n",
              "4          False  \n",
              "..           ...  \n",
              "545        False  \n",
              "546        False  \n",
              "547        False  \n",
              "548        False  \n",
              "549        False  \n",
              "\n",
              "[550 rows x 7 columns]"
            ],
            "text/html": [
              "\n",
              "  <div id=\"df-99189b0b-55a7-4198-bcd1-7242a5090105\" class=\"colab-df-container\">\n",
              "    <div>\n",
              "<style scoped>\n",
              "    .dataframe tbody tr th:only-of-type {\n",
              "        vertical-align: middle;\n",
              "    }\n",
              "\n",
              "    .dataframe tbody tr th {\n",
              "        vertical-align: top;\n",
              "    }\n",
              "\n",
              "    .dataframe thead th {\n",
              "        text-align: right;\n",
              "    }\n",
              "</style>\n",
              "<table border=\"1\" class=\"dataframe\">\n",
              "  <thead>\n",
              "    <tr style=\"text-align: right;\">\n",
              "      <th></th>\n",
              "      <th>produk_id</th>\n",
              "      <th>nama_produk</th>\n",
              "      <th>kategori</th>\n",
              "      <th>harga</th>\n",
              "      <th>rating</th>\n",
              "      <th>jumlah_ulasan</th>\n",
              "      <th>negara_asal</th>\n",
              "    </tr>\n",
              "  </thead>\n",
              "  <tbody>\n",
              "    <tr>\n",
              "      <th>0</th>\n",
              "      <td>False</td>\n",
              "      <td>False</td>\n",
              "      <td>False</td>\n",
              "      <td>False</td>\n",
              "      <td>False</td>\n",
              "      <td>False</td>\n",
              "      <td>False</td>\n",
              "    </tr>\n",
              "    <tr>\n",
              "      <th>1</th>\n",
              "      <td>False</td>\n",
              "      <td>False</td>\n",
              "      <td>False</td>\n",
              "      <td>False</td>\n",
              "      <td>False</td>\n",
              "      <td>False</td>\n",
              "      <td>False</td>\n",
              "    </tr>\n",
              "    <tr>\n",
              "      <th>2</th>\n",
              "      <td>False</td>\n",
              "      <td>False</td>\n",
              "      <td>False</td>\n",
              "      <td>False</td>\n",
              "      <td>False</td>\n",
              "      <td>False</td>\n",
              "      <td>False</td>\n",
              "    </tr>\n",
              "    <tr>\n",
              "      <th>3</th>\n",
              "      <td>False</td>\n",
              "      <td>False</td>\n",
              "      <td>False</td>\n",
              "      <td>False</td>\n",
              "      <td>False</td>\n",
              "      <td>False</td>\n",
              "      <td>False</td>\n",
              "    </tr>\n",
              "    <tr>\n",
              "      <th>4</th>\n",
              "      <td>False</td>\n",
              "      <td>False</td>\n",
              "      <td>False</td>\n",
              "      <td>False</td>\n",
              "      <td>False</td>\n",
              "      <td>False</td>\n",
              "      <td>False</td>\n",
              "    </tr>\n",
              "    <tr>\n",
              "      <th>...</th>\n",
              "      <td>...</td>\n",
              "      <td>...</td>\n",
              "      <td>...</td>\n",
              "      <td>...</td>\n",
              "      <td>...</td>\n",
              "      <td>...</td>\n",
              "      <td>...</td>\n",
              "    </tr>\n",
              "    <tr>\n",
              "      <th>545</th>\n",
              "      <td>False</td>\n",
              "      <td>False</td>\n",
              "      <td>False</td>\n",
              "      <td>False</td>\n",
              "      <td>False</td>\n",
              "      <td>False</td>\n",
              "      <td>False</td>\n",
              "    </tr>\n",
              "    <tr>\n",
              "      <th>546</th>\n",
              "      <td>False</td>\n",
              "      <td>False</td>\n",
              "      <td>False</td>\n",
              "      <td>False</td>\n",
              "      <td>False</td>\n",
              "      <td>False</td>\n",
              "      <td>False</td>\n",
              "    </tr>\n",
              "    <tr>\n",
              "      <th>547</th>\n",
              "      <td>False</td>\n",
              "      <td>False</td>\n",
              "      <td>False</td>\n",
              "      <td>False</td>\n",
              "      <td>False</td>\n",
              "      <td>False</td>\n",
              "      <td>False</td>\n",
              "    </tr>\n",
              "    <tr>\n",
              "      <th>548</th>\n",
              "      <td>False</td>\n",
              "      <td>False</td>\n",
              "      <td>False</td>\n",
              "      <td>False</td>\n",
              "      <td>False</td>\n",
              "      <td>False</td>\n",
              "      <td>False</td>\n",
              "    </tr>\n",
              "    <tr>\n",
              "      <th>549</th>\n",
              "      <td>False</td>\n",
              "      <td>False</td>\n",
              "      <td>False</td>\n",
              "      <td>False</td>\n",
              "      <td>False</td>\n",
              "      <td>False</td>\n",
              "      <td>False</td>\n",
              "    </tr>\n",
              "  </tbody>\n",
              "</table>\n",
              "<p>550 rows × 7 columns</p>\n",
              "</div>\n",
              "    <div class=\"colab-df-buttons\">\n",
              "\n",
              "  <div class=\"colab-df-container\">\n",
              "    <button class=\"colab-df-convert\" onclick=\"convertToInteractive('df-99189b0b-55a7-4198-bcd1-7242a5090105')\"\n",
              "            title=\"Convert this dataframe to an interactive table.\"\n",
              "            style=\"display:none;\">\n",
              "\n",
              "  <svg xmlns=\"http://www.w3.org/2000/svg\" height=\"24px\" viewBox=\"0 -960 960 960\">\n",
              "    <path d=\"M120-120v-720h720v720H120Zm60-500h600v-160H180v160Zm220 220h160v-160H400v160Zm0 220h160v-160H400v160ZM180-400h160v-160H180v160Zm440 0h160v-160H620v160ZM180-180h160v-160H180v160Zm440 0h160v-160H620v160Z\"/>\n",
              "  </svg>\n",
              "    </button>\n",
              "\n",
              "  <style>\n",
              "    .colab-df-container {\n",
              "      display:flex;\n",
              "      gap: 12px;\n",
              "    }\n",
              "\n",
              "    .colab-df-convert {\n",
              "      background-color: #E8F0FE;\n",
              "      border: none;\n",
              "      border-radius: 50%;\n",
              "      cursor: pointer;\n",
              "      display: none;\n",
              "      fill: #1967D2;\n",
              "      height: 32px;\n",
              "      padding: 0 0 0 0;\n",
              "      width: 32px;\n",
              "    }\n",
              "\n",
              "    .colab-df-convert:hover {\n",
              "      background-color: #E2EBFA;\n",
              "      box-shadow: 0px 1px 2px rgba(60, 64, 67, 0.3), 0px 1px 3px 1px rgba(60, 64, 67, 0.15);\n",
              "      fill: #174EA6;\n",
              "    }\n",
              "\n",
              "    .colab-df-buttons div {\n",
              "      margin-bottom: 4px;\n",
              "    }\n",
              "\n",
              "    [theme=dark] .colab-df-convert {\n",
              "      background-color: #3B4455;\n",
              "      fill: #D2E3FC;\n",
              "    }\n",
              "\n",
              "    [theme=dark] .colab-df-convert:hover {\n",
              "      background-color: #434B5C;\n",
              "      box-shadow: 0px 1px 3px 1px rgba(0, 0, 0, 0.15);\n",
              "      filter: drop-shadow(0px 1px 2px rgba(0, 0, 0, 0.3));\n",
              "      fill: #FFFFFF;\n",
              "    }\n",
              "  </style>\n",
              "\n",
              "    <script>\n",
              "      const buttonEl =\n",
              "        document.querySelector('#df-99189b0b-55a7-4198-bcd1-7242a5090105 button.colab-df-convert');\n",
              "      buttonEl.style.display =\n",
              "        google.colab.kernel.accessAllowed ? 'block' : 'none';\n",
              "\n",
              "      async function convertToInteractive(key) {\n",
              "        const element = document.querySelector('#df-99189b0b-55a7-4198-bcd1-7242a5090105');\n",
              "        const dataTable =\n",
              "          await google.colab.kernel.invokeFunction('convertToInteractive',\n",
              "                                                    [key], {});\n",
              "        if (!dataTable) return;\n",
              "\n",
              "        const docLinkHtml = 'Like what you see? Visit the ' +\n",
              "          '<a target=\"_blank\" href=https://colab.research.google.com/notebooks/data_table.ipynb>data table notebook</a>'\n",
              "          + ' to learn more about interactive tables.';\n",
              "        element.innerHTML = '';\n",
              "        dataTable['output_type'] = 'display_data';\n",
              "        await google.colab.output.renderOutput(dataTable, element);\n",
              "        const docLink = document.createElement('div');\n",
              "        docLink.innerHTML = docLinkHtml;\n",
              "        element.appendChild(docLink);\n",
              "      }\n",
              "    </script>\n",
              "  </div>\n",
              "\n",
              "\n",
              "<div id=\"df-23e85bfc-71fd-4e97-8327-081a128d2629\">\n",
              "  <button class=\"colab-df-quickchart\" onclick=\"quickchart('df-23e85bfc-71fd-4e97-8327-081a128d2629')\"\n",
              "            title=\"Suggest charts\"\n",
              "            style=\"display:none;\">\n",
              "\n",
              "<svg xmlns=\"http://www.w3.org/2000/svg\" height=\"24px\"viewBox=\"0 0 24 24\"\n",
              "     width=\"24px\">\n",
              "    <g>\n",
              "        <path d=\"M19 3H5c-1.1 0-2 .9-2 2v14c0 1.1.9 2 2 2h14c1.1 0 2-.9 2-2V5c0-1.1-.9-2-2-2zM9 17H7v-7h2v7zm4 0h-2V7h2v10zm4 0h-2v-4h2v4z\"/>\n",
              "    </g>\n",
              "</svg>\n",
              "  </button>\n",
              "\n",
              "<style>\n",
              "  .colab-df-quickchart {\n",
              "      --bg-color: #E8F0FE;\n",
              "      --fill-color: #1967D2;\n",
              "      --hover-bg-color: #E2EBFA;\n",
              "      --hover-fill-color: #174EA6;\n",
              "      --disabled-fill-color: #AAA;\n",
              "      --disabled-bg-color: #DDD;\n",
              "  }\n",
              "\n",
              "  [theme=dark] .colab-df-quickchart {\n",
              "      --bg-color: #3B4455;\n",
              "      --fill-color: #D2E3FC;\n",
              "      --hover-bg-color: #434B5C;\n",
              "      --hover-fill-color: #FFFFFF;\n",
              "      --disabled-bg-color: #3B4455;\n",
              "      --disabled-fill-color: #666;\n",
              "  }\n",
              "\n",
              "  .colab-df-quickchart {\n",
              "    background-color: var(--bg-color);\n",
              "    border: none;\n",
              "    border-radius: 50%;\n",
              "    cursor: pointer;\n",
              "    display: none;\n",
              "    fill: var(--fill-color);\n",
              "    height: 32px;\n",
              "    padding: 0;\n",
              "    width: 32px;\n",
              "  }\n",
              "\n",
              "  .colab-df-quickchart:hover {\n",
              "    background-color: var(--hover-bg-color);\n",
              "    box-shadow: 0 1px 2px rgba(60, 64, 67, 0.3), 0 1px 3px 1px rgba(60, 64, 67, 0.15);\n",
              "    fill: var(--button-hover-fill-color);\n",
              "  }\n",
              "\n",
              "  .colab-df-quickchart-complete:disabled,\n",
              "  .colab-df-quickchart-complete:disabled:hover {\n",
              "    background-color: var(--disabled-bg-color);\n",
              "    fill: var(--disabled-fill-color);\n",
              "    box-shadow: none;\n",
              "  }\n",
              "\n",
              "  .colab-df-spinner {\n",
              "    border: 2px solid var(--fill-color);\n",
              "    border-color: transparent;\n",
              "    border-bottom-color: var(--fill-color);\n",
              "    animation:\n",
              "      spin 1s steps(1) infinite;\n",
              "  }\n",
              "\n",
              "  @keyframes spin {\n",
              "    0% {\n",
              "      border-color: transparent;\n",
              "      border-bottom-color: var(--fill-color);\n",
              "      border-left-color: var(--fill-color);\n",
              "    }\n",
              "    20% {\n",
              "      border-color: transparent;\n",
              "      border-left-color: var(--fill-color);\n",
              "      border-top-color: var(--fill-color);\n",
              "    }\n",
              "    30% {\n",
              "      border-color: transparent;\n",
              "      border-left-color: var(--fill-color);\n",
              "      border-top-color: var(--fill-color);\n",
              "      border-right-color: var(--fill-color);\n",
              "    }\n",
              "    40% {\n",
              "      border-color: transparent;\n",
              "      border-right-color: var(--fill-color);\n",
              "      border-top-color: var(--fill-color);\n",
              "    }\n",
              "    60% {\n",
              "      border-color: transparent;\n",
              "      border-right-color: var(--fill-color);\n",
              "    }\n",
              "    80% {\n",
              "      border-color: transparent;\n",
              "      border-right-color: var(--fill-color);\n",
              "      border-bottom-color: var(--fill-color);\n",
              "    }\n",
              "    90% {\n",
              "      border-color: transparent;\n",
              "      border-bottom-color: var(--fill-color);\n",
              "    }\n",
              "  }\n",
              "</style>\n",
              "\n",
              "  <script>\n",
              "    async function quickchart(key) {\n",
              "      const quickchartButtonEl =\n",
              "        document.querySelector('#' + key + ' button');\n",
              "      quickchartButtonEl.disabled = true;  // To prevent multiple clicks.\n",
              "      quickchartButtonEl.classList.add('colab-df-spinner');\n",
              "      try {\n",
              "        const charts = await google.colab.kernel.invokeFunction(\n",
              "            'suggestCharts', [key], {});\n",
              "      } catch (error) {\n",
              "        console.error('Error during call to suggestCharts:', error);\n",
              "      }\n",
              "      quickchartButtonEl.classList.remove('colab-df-spinner');\n",
              "      quickchartButtonEl.classList.add('colab-df-quickchart-complete');\n",
              "    }\n",
              "    (() => {\n",
              "      let quickchartButtonEl =\n",
              "        document.querySelector('#df-23e85bfc-71fd-4e97-8327-081a128d2629 button');\n",
              "      quickchartButtonEl.style.display =\n",
              "        google.colab.kernel.accessAllowed ? 'block' : 'none';\n",
              "    })();\n",
              "  </script>\n",
              "</div>\n",
              "\n",
              "    </div>\n",
              "  </div>\n"
            ],
            "application/vnd.google.colaboratory.intrinsic+json": {
              "type": "dataframe",
              "summary": "{\n  \"name\": \"data\",\n  \"rows\": 550,\n  \"fields\": [\n    {\n      \"column\": \"produk_id\",\n      \"properties\": {\n        \"dtype\": \"boolean\",\n        \"num_unique_values\": 1,\n        \"samples\": [\n          false\n        ],\n        \"semantic_type\": \"\",\n        \"description\": \"\"\n      }\n    },\n    {\n      \"column\": \"nama_produk\",\n      \"properties\": {\n        \"dtype\": \"boolean\",\n        \"num_unique_values\": 1,\n        \"samples\": [\n          false\n        ],\n        \"semantic_type\": \"\",\n        \"description\": \"\"\n      }\n    },\n    {\n      \"column\": \"kategori\",\n      \"properties\": {\n        \"dtype\": \"boolean\",\n        \"num_unique_values\": 1,\n        \"samples\": [\n          false\n        ],\n        \"semantic_type\": \"\",\n        \"description\": \"\"\n      }\n    },\n    {\n      \"column\": \"harga\",\n      \"properties\": {\n        \"dtype\": \"boolean\",\n        \"num_unique_values\": 2,\n        \"samples\": [\n          true\n        ],\n        \"semantic_type\": \"\",\n        \"description\": \"\"\n      }\n    },\n    {\n      \"column\": \"rating\",\n      \"properties\": {\n        \"dtype\": \"boolean\",\n        \"num_unique_values\": 2,\n        \"samples\": [\n          true\n        ],\n        \"semantic_type\": \"\",\n        \"description\": \"\"\n      }\n    },\n    {\n      \"column\": \"jumlah_ulasan\",\n      \"properties\": {\n        \"dtype\": \"boolean\",\n        \"num_unique_values\": 2,\n        \"samples\": [\n          true\n        ],\n        \"semantic_type\": \"\",\n        \"description\": \"\"\n      }\n    },\n    {\n      \"column\": \"negara_asal\",\n      \"properties\": {\n        \"dtype\": \"boolean\",\n        \"num_unique_values\": 1,\n        \"samples\": [\n          false\n        ],\n        \"semantic_type\": \"\",\n        \"description\": \"\"\n      }\n    }\n  ]\n}"
            }
          },
          "metadata": {},
          "execution_count": 8
        }
      ]
    },
    {
      "cell_type": "code",
      "source": [
        "np.sum(data.isnull())"
      ],
      "metadata": {
        "colab": {
          "base_uri": "https://localhost:8080/",
          "height": 360
        },
        "id": "PLb7yN63pE0B",
        "outputId": "ae86f8ec-9f61-45f8-efee-5d8a3fd9701f"
      },
      "execution_count": 9,
      "outputs": [
        {
          "output_type": "stream",
          "name": "stderr",
          "text": [
            "/usr/local/lib/python3.11/dist-packages/numpy/core/fromnumeric.py:86: FutureWarning: The behavior of DataFrame.sum with axis=None is deprecated, in a future version this will reduce over both axes and return a scalar. To retain the old behavior, pass axis=0 (or do not pass axis)\n",
            "  return reduction(axis=axis, out=out, **passkwargs)\n"
          ]
        },
        {
          "output_type": "execute_result",
          "data": {
            "text/plain": [
              "produk_id         0\n",
              "nama_produk       0\n",
              "kategori          0\n",
              "harga            30\n",
              "rating           50\n",
              "jumlah_ulasan    20\n",
              "negara_asal       0\n",
              "dtype: int64"
            ],
            "text/html": [
              "<div>\n",
              "<style scoped>\n",
              "    .dataframe tbody tr th:only-of-type {\n",
              "        vertical-align: middle;\n",
              "    }\n",
              "\n",
              "    .dataframe tbody tr th {\n",
              "        vertical-align: top;\n",
              "    }\n",
              "\n",
              "    .dataframe thead th {\n",
              "        text-align: right;\n",
              "    }\n",
              "</style>\n",
              "<table border=\"1\" class=\"dataframe\">\n",
              "  <thead>\n",
              "    <tr style=\"text-align: right;\">\n",
              "      <th></th>\n",
              "      <th>0</th>\n",
              "    </tr>\n",
              "  </thead>\n",
              "  <tbody>\n",
              "    <tr>\n",
              "      <th>produk_id</th>\n",
              "      <td>0</td>\n",
              "    </tr>\n",
              "    <tr>\n",
              "      <th>nama_produk</th>\n",
              "      <td>0</td>\n",
              "    </tr>\n",
              "    <tr>\n",
              "      <th>kategori</th>\n",
              "      <td>0</td>\n",
              "    </tr>\n",
              "    <tr>\n",
              "      <th>harga</th>\n",
              "      <td>30</td>\n",
              "    </tr>\n",
              "    <tr>\n",
              "      <th>rating</th>\n",
              "      <td>50</td>\n",
              "    </tr>\n",
              "    <tr>\n",
              "      <th>jumlah_ulasan</th>\n",
              "      <td>20</td>\n",
              "    </tr>\n",
              "    <tr>\n",
              "      <th>negara_asal</th>\n",
              "      <td>0</td>\n",
              "    </tr>\n",
              "  </tbody>\n",
              "</table>\n",
              "</div><br><label><b>dtype:</b> int64</label>"
            ]
          },
          "metadata": {},
          "execution_count": 9
        }
      ]
    },
    {
      "cell_type": "markdown",
      "source": [
        "Berdasarkan output summarize tersebut, diperoleh bahwa kolom yang mengandung Missing Values (blanks/N/A(Python:nan atau NaN)) adalah kolom harga, rating, jumlah ulasan"
      ],
      "metadata": {
        "id": "AXYczN72pRp3"
      }
    },
    {
      "cell_type": "markdown",
      "source": [
        "## 2. Cek Missing value, jumlah missing value, serta Metode Penanganan Missing Value"
      ],
      "metadata": {
        "id": "efbN0hTSNHTz"
      }
    },
    {
      "cell_type": "code",
      "source": [
        "np.sum(data.isnull())"
      ],
      "metadata": {
        "colab": {
          "base_uri": "https://localhost:8080/",
          "height": 360
        },
        "id": "fclTKJD5MzmZ",
        "outputId": "e8b0201a-8603-479c-ac49-e9eafddd86e6"
      },
      "execution_count": 27,
      "outputs": [
        {
          "output_type": "stream",
          "name": "stderr",
          "text": [
            "/usr/local/lib/python3.11/dist-packages/numpy/core/fromnumeric.py:86: FutureWarning: The behavior of DataFrame.sum with axis=None is deprecated, in a future version this will reduce over both axes and return a scalar. To retain the old behavior, pass axis=0 (or do not pass axis)\n",
            "  return reduction(axis=axis, out=out, **passkwargs)\n"
          ]
        },
        {
          "output_type": "execute_result",
          "data": {
            "text/plain": [
              "produk_id        0\n",
              "nama_produk      0\n",
              "kategori         0\n",
              "harga            0\n",
              "rating           0\n",
              "jumlah_ulasan    0\n",
              "negara_asal      0\n",
              "dtype: int64"
            ],
            "text/html": [
              "<div>\n",
              "<style scoped>\n",
              "    .dataframe tbody tr th:only-of-type {\n",
              "        vertical-align: middle;\n",
              "    }\n",
              "\n",
              "    .dataframe tbody tr th {\n",
              "        vertical-align: top;\n",
              "    }\n",
              "\n",
              "    .dataframe thead th {\n",
              "        text-align: right;\n",
              "    }\n",
              "</style>\n",
              "<table border=\"1\" class=\"dataframe\">\n",
              "  <thead>\n",
              "    <tr style=\"text-align: right;\">\n",
              "      <th></th>\n",
              "      <th>0</th>\n",
              "    </tr>\n",
              "  </thead>\n",
              "  <tbody>\n",
              "    <tr>\n",
              "      <th>produk_id</th>\n",
              "      <td>0</td>\n",
              "    </tr>\n",
              "    <tr>\n",
              "      <th>nama_produk</th>\n",
              "      <td>0</td>\n",
              "    </tr>\n",
              "    <tr>\n",
              "      <th>kategori</th>\n",
              "      <td>0</td>\n",
              "    </tr>\n",
              "    <tr>\n",
              "      <th>harga</th>\n",
              "      <td>0</td>\n",
              "    </tr>\n",
              "    <tr>\n",
              "      <th>rating</th>\n",
              "      <td>0</td>\n",
              "    </tr>\n",
              "    <tr>\n",
              "      <th>jumlah_ulasan</th>\n",
              "      <td>0</td>\n",
              "    </tr>\n",
              "    <tr>\n",
              "      <th>negara_asal</th>\n",
              "      <td>0</td>\n",
              "    </tr>\n",
              "  </tbody>\n",
              "</table>\n",
              "</div><br><label><b>dtype:</b> int64</label>"
            ]
          },
          "metadata": {},
          "execution_count": 27
        }
      ]
    },
    {
      "cell_type": "code",
      "source": [
        "#mengetahui jumlah missing value di seluruh dataset\n",
        "data.isnull().sum().sum()"
      ],
      "metadata": {
        "colab": {
          "base_uri": "https://localhost:8080/"
        },
        "id": "vRIuDHSLqkUL",
        "outputId": "9fdbc25b-b665-406c-ba82-77fe23e2e3bc"
      },
      "execution_count": 10,
      "outputs": [
        {
          "output_type": "execute_result",
          "data": {
            "text/plain": [
              "100"
            ]
          },
          "metadata": {},
          "execution_count": 10
        }
      ]
    },
    {
      "cell_type": "markdown",
      "source": [
        "Missing Values dapat memengaruhi analisis data dalam berbagai cara. Jika terlalu banyak data yang hilang, hasil analisis bisa menjadi bias dan kurang akurat. Selain itu, banyak algoritma machine learning tidak bisa menangani missing values secara langsung, sehingga model yang dibangun bisa mengalami error atau tidak bekerja dengan optimal. Dalam analisis statistik, keberadaan missing values juga dapat menyebabkan interpretasi yang salah karena data yang tidak lengkap dapat memberikan gambaran yang tidak mewakili populasi sebenarnya.\n"
      ],
      "metadata": {
        "id": "mzKNp1q6sBMm"
      }
    },
    {
      "cell_type": "markdown",
      "source": [
        "## Penanganan Missing Vallue"
      ],
      "metadata": {
        "id": "jziO5zqp4xKm"
      }
    },
    {
      "cell_type": "markdown",
      "source": [
        "Untuk menangani missing values, ada beberapa metode yang bisa digunakan, tergantung pada karakteristik data. Jika hanya sedikit data yang hilang, missing values bisa dihapus agar tidak memengaruhi analisis secara signifikan. Jika jumlah missing values cukup banyak, alternatif lain adalah mengganti nilai yang hilang dengan median, mean, atau modus dari kolom yang bersangkutan. Jika data yang hilang memiliki pola tertentu, teknik imputasi yang lebih canggih seperti regresi atau algoritma machine learning dapat digunakan."
      ],
      "metadata": {
        "id": "AMNxn4s6xc0f"
      }
    },
    {
      "cell_type": "markdown",
      "source": [
        "## Missing Harga"
      ],
      "metadata": {
        "id": "j_z08Sy_5ltt"
      }
    },
    {
      "cell_type": "code",
      "source": [
        "#melihat isi dalam kolom harga\n",
        "data['harga'].unique()"
      ],
      "metadata": {
        "colab": {
          "base_uri": "https://localhost:8080/"
        },
        "id": "imz8gloat0PN",
        "outputId": "b60fb7ed-52a0-4f5a-e4e4-fc14bbb063ca"
      },
      "execution_count": 11,
      "outputs": [
        {
          "output_type": "execute_result",
          "data": {
            "text/plain": [
              "array([ 7.460e+02,  2.410e+02,  8.100e+02,  3.030e+02,  2.520e+02,\n",
              "        3.350e+02,  8.900e+02,  4.910e+02,  6.050e+02,  4.630e+02,\n",
              "        4.810e+02,  3.980e+02,  5.100e+02,  5.980e+02,  8.350e+02,\n",
              "        1.250e+02,  8.220e+02,  4.260e+02,  3.900e+02,  7.080e+02,\n",
              "        5.450e+02,        nan,  5.720e+02,  7.280e+02,  6.710e+02,\n",
              "        3.740e+02,  2.310e+02,  4.340e+02,  1.150e+03,  3.310e+02,\n",
              "        5.780e+02,  4.750e+02,  4.590e+02,  9.040e+02,  4.970e+02,\n",
              "        5.400e+02,  3.390e+02,  2.110e+02,  8.620e+02,  5.800e+02,\n",
              "        5.180e+02,  5.160e+02,  4.480e+02,  7.360e+02,  2.280e+02,\n",
              "        1.830e+02,  5.150e+02,  7.120e+02,  5.470e+02,  4.360e+02,\n",
              "        5.910e+02,  5.370e+02,  6.650e+02,  7.650e+02,  3.090e+02,\n",
              "        4.290e+02,  2.960e+02,  6.660e+02,  3.550e+02,  1.240e+02,\n",
              "        3.850e+02,  2.010e+02,  8.180e+02,  5.940e+02,  6.290e+02,\n",
              "        6.070e+02,  6.680e+02,  7.260e+02,  3.920e+02,  2.160e+02,\n",
              "        3.300e+02,  4.900e+02, -1.200e+01,  1.200e+02,  6.190e+02,\n",
              "        4.660e+02,  5.570e+02,  4.050e+02,  5.430e+02,  3.880e+02,\n",
              "        3.200e+02,  8.050e+02,  5.730e+02,  5.410e+02,  3.240e+02,\n",
              "        4.530e+02,  3.020e+02,  4.010e+02,  2.580e+02,  8.170e+02,\n",
              "        3.480e+02,  2.340e+02,  3.450e+02,  3.700e+02,  1.790e+02,\n",
              "        1.970e+02,  6.350e+02,  6.560e+02,  5.300e+02,  2.530e+02,\n",
              "        7.790e+02,  4.100e+02,  8.341e+03,  7.740e+02,  3.640e+02,\n",
              "        7.300e+02,  4.240e+02,  3.610e+02,  5.210e+02,  5.680e+02,\n",
              "        8.820e+02,  5.630e+02,  5.380e+02,  8.190e+02,  6.200e+02,\n",
              "        7.710e+02,  3.520e+02,  3.120e+02,  5.660e+02, -1.950e+02,\n",
              "        4.460e+02,  3.960e+02,  6.780e+02,  4.220e+02,  7.290e+02,\n",
              "        5.460e+02,  6.600e+02,  5.480e+02,  6.640e+02,  9.100e+02,\n",
              "        5.500e+02,  4.090e+02,  9.400e+01,  4.470e+02,  6.060e+02,\n",
              "        8.810e+02,  4.610e+02,  7.830e+02,  5.920e+02,  6.170e+02,\n",
              "        1.950e+02,  7.410e+02,  5.750e+02,  2.250e+02,  5.970e+02,\n",
              "        8.700e+01,  9.680e+02,  2.790e+02,  3.370e+02,  6.120e+02,\n",
              "        3.170e+02,  6.990e+02,  4.520e+02,  5.930e+02,  5.030e+02,\n",
              "        2.260e+02,  6.000e+02,  3.990e+02,  7.090e+02,  4.840e+02,\n",
              "        8.360e+02,  9.760e+02,  6.570e+02,  4.420e+02,  4.250e+02,\n",
              "        3.360e+02,  4.450e+02,  8.920e+02,  4.600e+02,  2.540e+02,\n",
              "        5.080e+02,  5.070e+02,  6.590e+02,  5.130e+02,  6.530e+02,\n",
              "        3.430e+02,  8.560e+02,  6.300e+02,  2.660e+02,  1.680e+02,\n",
              "        5.580e+02,  4.020e+02,  5.510e+02,  1.870e+02,  4.300e+02,\n",
              "        7.700e+01,  7.680e+02,  2.380e+02,  3.750e+02,  8.290e+02,\n",
              "        7.950e+02,  8.970e+02,  2.720e+02,  7.123e+03,  1.720e+02,\n",
              "        5.990e+02,  4.580e+02,  4.400e+01,  5.290e+02,  8.590e+02,\n",
              "        4.850e+02,  6.130e+02,  1.500e+02,  1.023e+03,  4.130e+02,\n",
              "        6.280e+02,  8.690e+02,  5.530e+02,  4.570e+02,  5.270e+02,\n",
              "        6.520e+02,  5.020e+02,  6.760e+02,  1.630e+02,  8.990e+02,\n",
              "        8.960e+02,  6.250e+02,  2.970e+02,  9.770e+02,  3.790e+02,\n",
              "        5.900e+02,  6.360e+02,  4.710e+02,  6.330e+02,  4.620e+02,\n",
              "        6.150e+02,  6.270e+02,  4.110e+02,  6.210e+02,  8.410e+02,\n",
              "        8.540e+02,  4.200e+02,  6.610e+02,  8.020e+02,  1.270e+02,\n",
              "        6.370e+02,  3.200e+01,  4.200e+01,  7.860e+02,  7.420e+02,\n",
              "        3.230e+02,  6.020e+02,  5.950e+02,  6.940e+02,  6.440e+02,\n",
              "        4.140e+02,  4.890e+02,  8.680e+02,  4.180e+02,  5.520e+02,\n",
              "        5.100e+01,  9.510e+02,  3.130e+02,  1.134e+03,  5.360e+02,\n",
              "       -1.400e+01,  7.660e+02,  6.430e+02,  8.130e+02,  2.640e+02,\n",
              "        3.630e+02,  1.640e+02,  3.780e+02,  5.420e+02,  6.730e+02,\n",
              "        7.600e+02,  4.000e+02,  5.830e+02,  2.800e+02,  6.230e+02,\n",
              "        3.730e+02,  3.160e+02,  5.490e+02,  7.100e+02,  4.500e+02,\n",
              "        4.860e+02,  4.920e+02,  5.840e+03,  2.610e+02,  5.550e+02,\n",
              "        3.560e+02,  6.810e+02,  3.650e+02,  3.680e+02,  5.890e+02,\n",
              "        9.550e+02,  1.740e+02,  7.250e+02,  3.840e+02,  3.250e+02,\n",
              "        1.770e+02,  7.690e+02,  2.130e+02,  7.930e+02,  5.600e+02,\n",
              "        7.330e+02,  7.070e+02,  2.990e+02,  9.850e+02,  8.890e+02,\n",
              "        3.870e+02, -2.130e+02,  4.280e+02,  3.860e+02,  4.550e+02,\n",
              "        3.340e+02,  6.840e+02,  5.120e+02,  6.900e+02,  7.440e+02,\n",
              "        6.500e+01,  1.014e+03,  6.620e+02,  1.230e+02,  5.280e+02,\n",
              "        6.950e+02,  6.720e+02,  5.598e+03,  1.610e+02,  3.190e+02,\n",
              "        7.730e+02,  6.910e+02,  6.490e+02,  7.010e+02,  4.800e+02,\n",
              "        4.040e+02,  7.030e+02,  7.500e+02,  5.330e+02,  3.040e+02,\n",
              "        4.960e+02,  4.870e+02,  8.400e+02,  5.170e+02,  3.410e+02,\n",
              "        8.240e+02,  2.910e+02,  5.590e+02,  6.240e+02,  5.250e+02,\n",
              "        4.990e+02, -1.500e+01,  5.620e+02,  4.150e+02,  6.420e+02,\n",
              "        2.330e+02,  4.560e+02,  4.350e+02,  4.160e+02,  7.900e+02,\n",
              "        5.740e+02,  4.760e+02,  4.540e+02,  5.860e+02,  6.080e+02,\n",
              "        5.260e+02,  6.030e+02,  5.224e+03,  2.760e+02,  1.560e+02,\n",
              "        5.560e+02,  4.430e+02,  2.900e+02,  7.600e+01,  1.430e+02,\n",
              "        8.200e+02,  3.400e+02,  4.380e+02,  6.320e+02,  7.020e+02,\n",
              "        3.260e+02,  7.560e+02,  6.670e+02,  7.050e+02,  4.230e+02,\n",
              "        5.200e+02,  3.930e+02,  1.090e+02,  4.440e+02,  5.710e+02,\n",
              "        3.820e+02,  4.690e+02, -4.200e+01,  7.590e+02,  6.800e+02,\n",
              "        9.700e+01, -5.000e+00,  7.880e+02,  1.190e+02,  5.350e+02,\n",
              "        7.770e+02, -2.900e+01,  6.450e+02,  4.650e+02,  4.950e+02])"
            ]
          },
          "metadata": {},
          "execution_count": 11
        }
      ]
    },
    {
      "cell_type": "code",
      "source": [
        "#jumlah missing value\n",
        "np.sum(data['harga'].isnull())"
      ],
      "metadata": {
        "colab": {
          "base_uri": "https://localhost:8080/"
        },
        "id": "m2BNSbOyx0N1",
        "outputId": "73a27815-f4d8-48b1-b973-60bc44141977"
      },
      "execution_count": 12,
      "outputs": [
        {
          "output_type": "execute_result",
          "data": {
            "text/plain": [
              "30"
            ]
          },
          "metadata": {},
          "execution_count": 12
        }
      ]
    },
    {
      "cell_type": "markdown",
      "source": [
        "Bedasarkan output tersebut, dapat kita lihat bahwa pada kolom harga mengandung 30 missing value.\n",
        "Harga adalah nilai atau jumlah uang yang harus dibayarkan untuk memperoleh atau membeli suatu produk. Harga barang elektronik seringkali memiliki rentang yang luas, dari produk murah hingga yang sangat mahal. Ini bisa menyebabkan distribusi data menjadi miring (skewed) ke kanan, di mana sebagian besar harga lebih rendah tetapi ada beberapa produk dengan harga yang sangat tinggi.\n",
        "\n",
        "Jika terdapat produk dengan harga yang jauh lebih tinggi dari rata-rata (misalnya barang premium atau edisi khusus), maka nilai mean akan menjadi terlalu tinggi dan tidak mewakili mayoritas data.\n",
        "\n",
        "Median adalah nilai tengah dalam distribusi data, sehingga tidak terpengaruh oleh nilai ekstrem. Dengan menggunakan median, nilai yang digunakan untuk menggantikan missing values tetap mencerminkan kondisi mayoritas produk tanpa dipengaruhi oleh harga yang sangat tinggi atau sangat rendah."
      ],
      "metadata": {
        "id": "YT9knWvFzBTD"
      }
    },
    {
      "cell_type": "code",
      "source": [
        "#mengisi missing value\n",
        "data['harga']=data['harga'].fillna(data['harga'].median())"
      ],
      "metadata": {
        "id": "W23h8RWeyxrg"
      },
      "execution_count": 14,
      "outputs": []
    },
    {
      "cell_type": "code",
      "source": [
        "#jumlah missing value\n",
        "np.sum(data['harga'].isnull())"
      ],
      "metadata": {
        "colab": {
          "base_uri": "https://localhost:8080/"
        },
        "id": "XCZU6bEK3x8I",
        "outputId": "5d4ae807-70dd-46d7-cbe4-7be1f99abbd7"
      },
      "execution_count": 15,
      "outputs": [
        {
          "output_type": "execute_result",
          "data": {
            "text/plain": [
              "0"
            ]
          },
          "metadata": {},
          "execution_count": 15
        }
      ]
    },
    {
      "cell_type": "markdown",
      "source": [
        "## Missing Rating"
      ],
      "metadata": {
        "id": "ENaQ3_H25Dxc"
      }
    },
    {
      "cell_type": "code",
      "source": [
        "#melihat isi dalam kolom rating\n",
        "data['rating'].unique()"
      ],
      "metadata": {
        "colab": {
          "base_uri": "https://localhost:8080/"
        },
        "id": "tNKGBjjX6dUa",
        "outputId": "2babcf56-6b8e-459a-befb-f3e545985647"
      },
      "execution_count": 16,
      "outputs": [
        {
          "output_type": "execute_result",
          "data": {
            "text/plain": [
              "array([4.2, 3.5, 3.8, 3.2, 3.7, 4. , 4.5, 3. , 3.9, 3.6, 4.7, 4.4, nan,\n",
              "       3.1, 4.9, 4.6, 5. , 4.8, 4.3, 3.4, 4.1, 3.3])"
            ]
          },
          "metadata": {},
          "execution_count": 16
        }
      ]
    },
    {
      "cell_type": "code",
      "source": [
        "#jumlah missing value\n",
        "np.sum(data['rating'].isnull())"
      ],
      "metadata": {
        "colab": {
          "base_uri": "https://localhost:8080/"
        },
        "id": "9pR36oJj6wp0",
        "outputId": "35cb0f5b-d5f7-4970-921e-6a8c1379fda5"
      },
      "execution_count": 17,
      "outputs": [
        {
          "output_type": "execute_result",
          "data": {
            "text/plain": [
              "50"
            ]
          },
          "metadata": {},
          "execution_count": 17
        }
      ]
    },
    {
      "cell_type": "markdown",
      "source": [
        "Berdasarkan output tersebut, dapat dilihat bahwa kolom tersebut mengandung detail Missing Values : 'nan'. Pada kasus ini, masing-masing Missing Values tersebut akan diganti dengan rata-rata dari durasi keseluruhan data.\n",
        "\n",
        "Rating adalah penilaian atau evaluasi yang diberikan kepada sebuah produk, layanan, atau kinerja berdasarkan kualitas, peforma, atau kepuasan. Rating produk biasanya diberikan dalam skala terbatas, misalnya 1-5 atau 1-10 yang cenderung membentuk distribusi normal atau mendekati normal.\n",
        "Jika rating diisi dengan median, bisa jadi kehilangan variasi kecil dalam data yang mungkin relevan untuk analisis pengguna. Mean tetap mempertahankan keseimbangan nilai rating dalam dataset.\n",
        "\n",
        "Karena rating biasanya berada dalam rentang terbatas (misalnya 1-5 atau 1-10), tidak ada nilai yang terlalu jauh dari nilai lainnya. Oleh karena itu, mean tetap representatif dalam menggantikan missing values."
      ],
      "metadata": {
        "id": "1PUx6YZb7aqF"
      }
    },
    {
      "cell_type": "code",
      "source": [
        "#Mengisi missing value\n",
        "data['rating']=data['rating'].fillna(data['rating'].mean())"
      ],
      "metadata": {
        "id": "LvOPqoW6A0R7"
      },
      "execution_count": 20,
      "outputs": []
    },
    {
      "cell_type": "code",
      "source": [
        "#Jumlah missing value\n",
        "np.sum(data['rating'].isnull())"
      ],
      "metadata": {
        "colab": {
          "base_uri": "https://localhost:8080/"
        },
        "id": "IlwJduKNBJPn",
        "outputId": "467ca5bc-4e09-4301-a5b6-78272978906f"
      },
      "execution_count": 21,
      "outputs": [
        {
          "output_type": "execute_result",
          "data": {
            "text/plain": [
              "0"
            ]
          },
          "metadata": {},
          "execution_count": 21
        }
      ]
    },
    {
      "cell_type": "markdown",
      "source": [
        "## Missing jumlah_ulasan"
      ],
      "metadata": {
        "id": "E9u5FE-rBuyA"
      }
    },
    {
      "cell_type": "code",
      "source": [
        "#melihat isi dalam kolom jumlah_ulasan\n",
        "data['jumlah_ulasan'].unique()"
      ],
      "metadata": {
        "colab": {
          "base_uri": "https://localhost:8080/"
        },
        "id": "bcHtyPd0CLol",
        "outputId": "bb51c863-89ab-4a28-aa4a-222dfd68eae9"
      },
      "execution_count": 22,
      "outputs": [
        {
          "output_type": "execute_result",
          "data": {
            "text/plain": [
              "array([273., 239., 209.,  59.,  76., 309., 390.,  67., 268.,  nan, 335.,\n",
              "       139., 224., 181., 267., 111., 218., 300., 363., 480., 295., 125.,\n",
              "       159., 451.,  45., 462., 342., 486., 296., 312., 320., 217., 115.,\n",
              "       455., 167., 130.,  64., 409.,  21., 154., 405., 145., 477.,  12.,\n",
              "       153.,  39., 246., 288., 357., 113., 127.,  14., 257., 373., 330.,\n",
              "       158.,  93., 463., 475., 465., 240., 297., 170., 281., 469.,  47.,\n",
              "       235., 151., 301., 490., 160., 123.,  75., 370., 350., 484., 258.,\n",
              "       466., 458., 340., 332., 189., 199., 416., 163., 205., 271., 428.,\n",
              "       415., 436., 152., 351., 110., 253., 499., 248.,  58.,  51., 175.,\n",
              "        91., 438., 225., 471., 143., 345.,  16., 445.,  23.,  82., 408.,\n",
              "       414., 172., 356., 215., 285., 265., 275.,  34., 459., 290., 262.,\n",
              "       319., 298., 173., 104., 119., 247., 396., 492., 434., 399., 150.,\n",
              "       126., 491., 401., 461.,  88.,  77., 182., 453., 137., 105., 101.,\n",
              "        40., 343.,  29., 155., 325., 456., 169., 358.,  52., 263.,  69.,\n",
              "       476., 427., 354., 391., 276., 187., 424.,  65., 472.,  92., 402.,\n",
              "       108., 338., 165., 380., 272., 261., 106., 269., 112.,  49., 282.,\n",
              "       368., 389., 317., 230., 429., 133., 431.,  72., 494., 200.,  71.,\n",
              "       164., 479., 464., 238.,  95., 142., 192., 395., 228., 255., 147.,\n",
              "       323., 385., 432., 398.,  74.,  22., 222., 483., 190., 347., 474.,\n",
              "       197., 404., 291.,  43.,  61., 121., 241., 236., 242., 422.,  30.,\n",
              "       406., 122., 114., 201.,  26., 129., 138.,  57.,  38.,  19., 286.,\n",
              "       293., 212., 256., 299., 452., 223., 442., 410., 352., 353., 425.,\n",
              "       437.,  96.,  17., 394., 118., 444., 417., 161., 157., 375., 237.,\n",
              "       148., 220., 400.,  37.,  60., 270., 359., 361., 329., 120., 489.,\n",
              "       377., 229., 346., 232., 369., 418., 443., 460.,  87., 178., 226.,\n",
              "       387., 128., 264., 379., 149., 497., 383., 278., 360.,  20., 280.,\n",
              "       433., 411., 162., 324., 482., 287., 423., 183., 131.,  41., 231.,\n",
              "        48., 277., 440.,  27., 135., 311., 144., 245., 233., 244.,  31.,\n",
              "       294., 292.,  97.,  53., 470., 180., 430., 198., 362., 193.,  28.,\n",
              "        32., 304., 117., 376., 371., 195.,  81., 397., 393.])"
            ]
          },
          "metadata": {},
          "execution_count": 22
        }
      ]
    },
    {
      "cell_type": "code",
      "source": [
        "#jumlah missing value\n",
        "np.sum(data['jumlah_ulasan'].isnull())"
      ],
      "metadata": {
        "colab": {
          "base_uri": "https://localhost:8080/"
        },
        "id": "Y9c1YFUXCjuo",
        "outputId": "afabcd4d-a18e-4549-ea78-bdccbf6a8631"
      },
      "execution_count": 23,
      "outputs": [
        {
          "output_type": "execute_result",
          "data": {
            "text/plain": [
              "20"
            ]
          },
          "metadata": {},
          "execution_count": 23
        }
      ]
    },
    {
      "cell_type": "markdown",
      "source": [
        "**Analisis awal**\n",
        "\n",
        "Jumlah ulasan (jumlah pelanggan yang memberikan review) sering kali sangat bervariasi antar produk. Beberapa produk sangat populer dan memiliki ribuan ulasan, sementara produk lain mungkin hanya memiliki beberapa ulasan.\n",
        "\n",
        "Distribusi jumlah ulasan sering skewed ke kanan, karena sebagian besar produk memiliki sedikit ulasan, tetapi ada beberapa produk dengan jumlah ulasan yang sangat tinggi (outlier) (misal produk populer vs. produk baru yang jarang dibeli).\n",
        "\n",
        "Dalam situasi ini, mean tidak akan mewakili sebagian besar data karena ditarik ke atas oleh produk dengan banyak ulasan.Jika menggunakan mean, nilai pengganti akan terlalu tinggi karena adanya beberapa produk dengan ulasan sangat banyak.\n",
        "Dengan menggunakan median, kita mendapatkan nilai tengah yang lebih mewakili sebagian besar produk. Karena median lebih tahan terhadap outlier, sehingga tidak dipengaruhi oleh beberapa produk yang memiliki jumlah ulasan sangat tinggi dan median juga memberikan estimasi yang lebih representatif untuk produk dengan jumlah ulasan yang lebih sedikit."
      ],
      "metadata": {
        "id": "oeafoDDJC2al"
      }
    },
    {
      "cell_type": "code",
      "source": [
        "#mengisi missing value\n",
        "data['jumlah_ulasan']=data['jumlah_ulasan'].fillna(data['jumlah_ulasan'].median())"
      ],
      "metadata": {
        "id": "0nUrCOnIJaiM"
      },
      "execution_count": 25,
      "outputs": []
    },
    {
      "cell_type": "code",
      "source": [
        "#Jumlah missing value\n",
        "np.sum(data['jumlah_ulasan'].isnull())"
      ],
      "metadata": {
        "colab": {
          "base_uri": "https://localhost:8080/"
        },
        "id": "NC9QAxdNLnXB",
        "outputId": "4a3acfad-3a9e-4153-b6d9-5056d425c1a5"
      },
      "execution_count": 26,
      "outputs": [
        {
          "output_type": "execute_result",
          "data": {
            "text/plain": [
              "0"
            ]
          },
          "metadata": {},
          "execution_count": 26
        }
      ]
    },
    {
      "cell_type": "markdown",
      "source": [
        "## 3. Identifikasi Outlier dalam dataset, Metode Penanganan"
      ],
      "metadata": {
        "id": "-0cG-qlTNghm"
      }
    },
    {
      "cell_type": "markdown",
      "source": [
        "Cek Outlier Outlier dapat dideteksi menggunakan beberapa metode:\n",
        "\n",
        "\n",
        "1.   Boxplot → Visualisasi distribusi dan outlier\n",
        "2.   Interquartile Range (IQR) → Mengidentifikasi outlier berdasarkan distribusi kuartil\n",
        "\n"
      ],
      "metadata": {
        "id": "n3SUw4QBTNVp"
      }
    },
    {
      "cell_type": "markdown",
      "source": [
        "**Menggunakan Boxplot**"
      ],
      "metadata": {
        "id": "eHU0wSCaTF7W"
      }
    },
    {
      "cell_type": "code",
      "source": [
        "import matplotlib.pyplot as plt\n",
        "import seaborn as sns\n",
        "\n",
        "#Kolom numerik yang ingin dicek outliernya\n",
        "num_cols = ['harga', 'rating', 'jumlah_ulasan']\n",
        "\n",
        "# Membuat boxplot untuk setiap kolom numerik\n",
        "plt.figure(figsize=(15, 5))\n",
        "for i, col in enumerate(num_cols, 1):\n",
        "    plt.subplot(3, 4, i)\n",
        "    sns.boxplot(y=data[col])\n",
        "    plt.title(col)\n",
        "plt.tight_layout()\n",
        "plt.show()"
      ],
      "metadata": {
        "colab": {
          "base_uri": "https://localhost:8080/",
          "height": 121
        },
        "id": "3JkkljzgOKSl",
        "outputId": "da379666-9e55-488c-cd48-48ff8ea06114"
      },
      "execution_count": 28,
      "outputs": [
        {
          "output_type": "display_data",
          "data": {
            "text/plain": [
              "<Figure size 1500x500 with 3 Axes>"
            ],
            "image/png": "[encoded data removed]"
          },
          "metadata": {}
        }
      ]
    },
    {
      "cell_type": "markdown",
      "source": [
        "Untuk lebih detail atau jelasnya sebagai berikut"
      ],
      "metadata": {
        "id": "72vFrMMLS2lL"
      }
    },
    {
      "cell_type": "code",
      "source": [
        "import matplotlib.pyplot as plt\n",
        "import seaborn as sns\n",
        "\n",
        "#Kolom numerik yang ingin dicek outliernya\n",
        "num_cols = ['harga', 'rating', 'jumlah_ulasan']\n",
        "\n",
        "# Membuat boxplot untuk mendeteksi outlier\n",
        "plt.figure(figsize=(15, 5))\n",
        "\n",
        "# Boxplot untuk harga\n",
        "plt.subplot(1, 3, 1)\n",
        "sns.boxplot(y=data[\"harga\"])\n",
        "plt.title(\"Boxplot Harga\")\n",
        "\n",
        "# Boxplot untuk rating\n",
        "plt.subplot(1, 3, 2)\n",
        "sns.boxplot(y=data[\"rating\"])\n",
        "plt.title(\"Boxplot Rating\")\n",
        "\n",
        "# Boxplot untuk jumlah ulasan\n",
        "plt.subplot(1, 3, 3)\n",
        "sns.boxplot(y=data[\"jumlah_ulasan\"])\n",
        "plt.title(\"Boxplot Jumlah Ulasan\")\n",
        "\n",
        "plt.show()"
      ],
      "metadata": {
        "colab": {
          "base_uri": "https://localhost:8080/",
          "height": 238
        },
        "id": "UGWxHvpzRZ-u",
        "outputId": "292e54f6-0c76-4d45-b1c4-580c1783b7c0"
      },
      "execution_count": 30,
      "outputs": [
        {
          "output_type": "display_data",
          "data": {
            "text/plain": [
              "<Figure size 1500x500 with 3 Axes>"
            ],
            "image/png": "[encoded data removed]"
          },
          "metadata": {}
        }
      ]
    },
    {
      "cell_type": "markdown",
      "source": [
        "**menggunakan IQR**"
      ],
      "metadata": {
        "id": "mf0YJZuiTjNd"
      }
    },
    {
      "cell_type": "code",
      "source": [
        "#Fungsi untuk mendeteksi outlier menggunakan metode IQR\n",
        "def detect_outliers_iqr(data, column):\n",
        "    Q1 = data[column].quantile(0.25)  # Kuartil 1\n",
        "    Q3 = data[column].quantile(0.75)  # Kuartil 3\n",
        "    IQR = Q3 - Q1  # Rentang interkuartil\n",
        "    lower_bound = Q1 - 1.5 * IQR\n",
        "    upper_bound = Q3 + 1.5 * IQR\n",
        "    return data[(data[column] < lower_bound) | (data[column] > upper_bound)]\n",
        "\n",
        "#Cek jumlah outlier untuk setiap kolom numerik\n",
        "for col in num_cols:\n",
        "    outliers = detect_outliers_iqr(data, col)\n",
        "    print(f\"{col}: {len(outliers)} outliers\")\n",
        ""
      ],
      "metadata": {
        "colab": {
          "base_uri": "https://localhost:8080/"
        },
        "id": "xqasOqgwTqV3",
        "outputId": "eadae12c-36d8-494f-aba1-4cd9fd52fe5f"
      },
      "execution_count": 31,
      "outputs": [
        {
          "output_type": "stream",
          "name": "stdout",
          "text": [
            "harga: 14 outliers\n",
            "rating: 0 outliers\n",
            "jumlah_ulasan: 0 outliers\n"
          ]
        }
      ]
    },
    {
      "cell_type": "markdown",
      "source": [
        "**Dampak Outlier terhadap Analisis Data**\n",
        "Outlier adalah data yang memiliki nilai yang sangat berbeda dari nilai-nilai lainnya dalam dataset. Dampak outlier terhadap analisis data dapat sangat signifikan, baik positif maupun negatif. Berikut beberapa dampak outlier terhadap analisis data:\n",
        "\n",
        "**Dampak Negatif**\n",
        "\n",
        "*   Outlier dapat membuat model prediksi menjadi tidak akurat, karena model tersebut dapat dipengaruhi oleh nilai-nilai yang tidak biasa.\n",
        "\n",
        "*   Outlier dapat mengubah hasil analisis seperti mengubah nilai rata-rata, median, atau standar deviasi.\n",
        "*   Outlier dapat membuat visualisasi data menjadi tidak jelas atau tidak akurat.\n",
        "\n",
        "*   Outlier dapat membuat analis meragukan hasil analisis mereka.\n",
        "\n",
        "**Dampak Positif**\n",
        "\n",
        "\n",
        "*   Outlier dapat membantu mengidentifikasi kesalahan data, seperti kesalahan pengukuran atau kesalahan penginputan.\n",
        "*   Outlier dapat membantu mengidentifikasi pola yang tidak biasa dalam data, yang dapat menjadi penting dalam analisis.\n",
        "\n",
        "*   Outlier dapat membantu mengembangkan model yang lebih baik dengan mempertimbangkan nilai-nilai yang tidak biasa.\n",
        "\n",
        "**Dampak Outlier pada analisis ini**\n",
        "\n",
        "\n",
        "*   Outlier dapat menyebabkan nilai mean menjadi bias, terutama pada data harga.\n",
        "*   Model regresi dan clustering sangat sensitif terhadap outlier.\n",
        "*   Jika tidak ditangani, hasil analisis bisa menjadi tidak representatif.\n",
        "\n",
        "\n",
        "\n",
        "\n"
      ],
      "metadata": {
        "id": "vEsd_wXjVwND"
      }
    },
    {
      "cell_type": "code",
      "source": [
        "#Fungsi untuk mendeteksi outlier menggunakan metode IQR\n",
        "def detect_outliers_iqr(data, column):\n",
        "    Q1 = data[column].quantile(0.25)  # Kuartil 1\n",
        "    Q3 = data[column].quantile(0.75)  # Kuartil 3\n",
        "    IQR = Q3 - Q1  # Rentang interkuartil\n",
        "    lower_bound = Q1 - 1.5 * IQR\n",
        "    upper_bound = Q3 + 1.5 * IQR\n",
        "    return data[(data[column] < lower_bound) | (data[column] > upper_bound)]\n",
        "\n",
        "#Cek jumlah outlier untuk setiap kolom numerik\n",
        "for col in num_cols:\n",
        "    outliers = detect_outliers_iqr(data, col)\n",
        "    print(f\"{col}: {len(outliers)} outliers\")"
      ],
      "metadata": {
        "colab": {
          "base_uri": "https://localhost:8080/"
        },
        "id": "977yn_u1jCEo",
        "outputId": "275d8002-06ab-49bc-c3d3-ceb792da8b90"
      },
      "execution_count": 32,
      "outputs": [
        {
          "output_type": "stream",
          "name": "stdout",
          "text": [
            "harga: 14 outliers\n",
            "rating: 0 outliers\n",
            "jumlah_ulasan: 0 outliers\n"
          ]
        }
      ]
    },
    {
      "cell_type": "markdown",
      "source": [
        "**Penanganan Outlier**\n",
        "Beberapa metode umum untuk menangani outlier adalah:\n",
        "\n",
        "*   Menghapus outlier jika jumlahnya sedikit dan tidak terlalu berdampak pada dataset.\n",
        "*   Menggunakan Winsorizing dengan membatasi nilai outlier ke dalam range tertentu.\n",
        "*   Menggunakan transformasi log untuk menormalkan distribusi.\n",
        "\n",
        "Pada permasalahan dan analisis ini, kita akan:\n",
        "\n",
        "\n",
        "*   Menghapus outlier harga yang negatif, karena nilai harga tidak mungkin negatif.\n",
        "*   Menggunakan Winsorizing untuk membatasi harga yang terlalu tinggi.\n",
        "\n",
        "\n"
      ],
      "metadata": {
        "id": "dFIyBqUtjbak"
      }
    },
    {
      "cell_type": "code",
      "source": [
        "#Menghapus harga negatif\n",
        "data[data[\"harga\"] >= 0]\n",
        "\n",
        "#winzoring untuk membatasi harga yang terlalu tinggi\n",
        "def winzoring(data, column, batas_atas):\n",
        "    Q1= data[column].quantile(0.25)\n",
        "    Q3= data[column].quantile(0.75)\n",
        "    IQR= Q3 - Q1\n",
        "    lower_bound = Q1 - 1.5 * IQR\n",
        "    upper_bound = Q3 + 1.5 * IQR\n",
        "    data[column]= np.where(data[column] < lower_bound, lower_bound, data[column])\n",
        "    data[column] = np.where(data[column] > batas_atas, batas_atas, data[column])\n",
        "    return data\n",
        "\n",
        "#terapkan winzoring\n",
        "for col in num_cols:\n",
        "    data = winzoring(data, col, data[col].quantile(0.95))"
      ],
      "metadata": {
        "id": "24gFG8mLlYHm"
      },
      "execution_count": 39,
      "outputs": []
    },
    {
      "cell_type": "code",
      "source": [
        "#cek boxplot lagi\n",
        "num_cols = ['harga', 'rating', 'jumlah_ulasan']\n",
        "\n",
        "#visualisasi boxplot\n",
        "plt.figure(figsize=(15, 5))\n",
        "for i, col in enumerate(num_cols, 1):\n",
        "    plt.subplot(3, 4, i)\n",
        "    sns.boxplot(y=data[col])\n",
        "    plt.title(col)\n",
        "    plt.tight_layout()\n",
        "plt.show()"
      ],
      "metadata": {
        "colab": {
          "base_uri": "https://localhost:8080/",
          "height": 121
        },
        "id": "1qjc4sd4nxgl",
        "outputId": "e46e864b-b711-475d-c63b-6dbbaedc616f"
      },
      "execution_count": 40,
      "outputs": [
        {
          "output_type": "display_data",
          "data": {
            "text/plain": [
              "<Figure size 1500x500 with 3 Axes>"
            ],
            "image/png": "[encoded data removed]"
          },
          "metadata": {}
        }
      ]
    },
    {
      "cell_type": "markdown",
      "source": [
        "## 4. Encoding, dan Metode Encoding"
      ],
      "metadata": {
        "id": "-G_83XEEp84n"
      }
    },
    {
      "cell_type": "markdown",
      "source": [
        "Encoding adalah proses mengubah data kategorik menjadi bentuk numerik agar dapat digunakan dalam algoritma Machine Learning. Model Machine Learning umumnya hanya dapat bekerja dengan angka, sehingga data kategorik harus dikonversi terlebih dahulu sebelum digunakan dalam pemodelan.\n",
        "\n"
      ],
      "metadata": {
        "id": "dKUUcHkhrKCN"
      }
    },
    {
      "cell_type": "markdown",
      "source": [
        "**Metode Encoding** dalam Machine Learning Ada beberapa metode encoding yang umum digunakan, tergantung pada jenis dan karakteristik data kategorik:\n",
        "\n",
        "1.   \n",
        "One-Hot Encoding (OHE): Mengubah kategori menjadi beberapa kolom biner (0/Digunakan jika jumlah kategori tidak\n",
        "\n",
        "2.   Ordinal Encoding : Mengubah kategori menjadi angka berurutan (0,1,2,..). Digunakan jika kategori memiliki urutan yang jelas (misalnya pendidikan: SD < SMP < SMA)\n",
        "3.   Target Encoding : Menggunakan rata-rata target (misalnya rata-rata skor IMDB berdasarkan negara) untuk mengganti kategori. Digunakan jika data memiliki hubungan statistik yang kuat dengan target.\n",
        "\n",
        "\n",
        "Dalam penyelesaian ini, kita akan melakukan encoding pada kolom kategorikal dalam dataset. Dengan langkah-langkah sebagai berikut:\n",
        "\n",
        "\n",
        "1.   Menentukan kolom mana yang memerlukan encoding.\n",
        "2.   Membandingkan berbagai metode encoding\n",
        "3.   Memilih metode encoding yang paling sesuai untuk setiap kolom dan menjelaskan alasannya.\n",
        "4.   Menerapkan metode encoding pada dataset.\n",
        "\n"
      ],
      "metadata": {
        "id": "8d6QdMBUrMfU"
      }
    },
    {
      "cell_type": "code",
      "source": [
        "#melihat isi dalam kolom\n",
        "data['nama_produk'].unique()"
      ],
      "metadata": {
        "colab": {
          "base_uri": "https://localhost:8080/"
        },
        "id": "3DaiDLMltoJC",
        "outputId": "3ef7eedc-30dc-4323-fa5c-5a2bb2b2d83e"
      },
      "execution_count": 41,
      "outputs": [
        {
          "output_type": "execute_result",
          "data": {
            "text/plain": [
              "array(['Produk_1', 'Produk_2', 'Produk_3', 'Produk_4', 'Produk_5',\n",
              "       'Produk_6', 'Produk_7', 'Produk_8', 'Produk_9', 'Produk_10',\n",
              "       'Produk_11', 'Produk_12', 'Produk_13', 'Produk_14', 'Produk_15',\n",
              "       'Produk_16', 'Produk_17', 'Produk_18', 'Produk_19', 'Produk_20',\n",
              "       'Produk_21', 'Produk_22', 'Produk_23', 'Produk_24', 'Produk_25',\n",
              "       'Produk_26', 'Produk_27', 'Produk_28', 'Produk_29', 'Produk_30',\n",
              "       'Produk_31', 'Produk_32', 'Produk_33', 'Produk_34', 'Produk_35',\n",
              "       'Produk_36', 'Produk_37', 'Produk_38', 'Produk_39', 'Produk_40',\n",
              "       'Produk_41', 'Produk_42', 'Produk_43', 'Produk_44', 'Produk_45',\n",
              "       'Produk_46', 'Produk_47', 'Produk_48', 'Produk_49', 'Produk_50',\n",
              "       'Produk_51', 'Produk_52', 'Produk_53', 'Produk_54', 'Produk_55',\n",
              "       'Produk_56', 'Produk_57', 'Produk_58', 'Produk_59', 'Produk_60',\n",
              "       'Produk_61', 'Produk_62', 'Produk_63', 'Produk_64', 'Produk_65',\n",
              "       'Produk_66', 'Produk_67', 'Produk_68', 'Produk_69', 'Produk_70',\n",
              "       'Produk_71', 'Produk_72', 'Produk_73', 'Produk_74', 'Produk_75',\n",
              "       'Produk_76', 'Produk_77', 'Produk_78', 'Produk_79', 'Produk_80',\n",
              "       'Produk_81', 'Produk_82', 'Produk_83', 'Produk_84', 'Produk_85',\n",
              "       'Produk_86', 'Produk_87', 'Produk_88', 'Produk_89', 'Produk_90',\n",
              "       'Produk_91', 'Produk_92', 'Produk_93', 'Produk_94', 'Produk_95',\n",
              "       'Produk_96', 'Produk_97', 'Produk_98', 'Produk_99', 'Produk_100',\n",
              "       'Produk_101', 'Produk_102', 'Produk_103', 'Produk_104',\n",
              "       'Produk_105', 'Produk_106', 'Produk_107', 'Produk_108',\n",
              "       'Produk_109', 'Produk_110', 'Produk_111', 'Produk_112',\n",
              "       'Produk_113', 'Produk_114', 'Produk_115', 'Produk_116',\n",
              "       'Produk_117', 'Produk_118', 'Produk_119', 'Produk_120',\n",
              "       'Produk_121', 'Produk_122', 'Produk_123', 'Produk_124',\n",
              "       'Produk_125', 'Produk_126', 'Produk_127', 'Produk_128',\n",
              "       'Produk_129', 'Produk_130', 'Produk_131', 'Produk_132',\n",
              "       'Produk_133', 'Produk_134', 'Produk_135', 'Produk_136',\n",
              "       'Produk_137', 'Produk_138', 'Produk_139', 'Produk_140',\n",
              "       'Produk_141', 'Produk_142', 'Produk_143', 'Produk_144',\n",
              "       'Produk_145', 'Produk_146', 'Produk_147', 'Produk_148',\n",
              "       'Produk_149', 'Produk_150', 'Produk_151', 'Produk_152',\n",
              "       'Produk_153', 'Produk_154', 'Produk_155', 'Produk_156',\n",
              "       'Produk_157', 'Produk_158', 'Produk_159', 'Produk_160',\n",
              "       'Produk_161', 'Produk_162', 'Produk_163', 'Produk_164',\n",
              "       'Produk_165', 'Produk_166', 'Produk_167', 'Produk_168',\n",
              "       'Produk_169', 'Produk_170', 'Produk_171', 'Produk_172',\n",
              "       'Produk_173', 'Produk_174', 'Produk_175', 'Produk_176',\n",
              "       'Produk_177', 'Produk_178', 'Produk_179', 'Produk_180',\n",
              "       'Produk_181', 'Produk_182', 'Produk_183', 'Produk_184',\n",
              "       'Produk_185', 'Produk_186', 'Produk_187', 'Produk_188',\n",
              "       'Produk_189', 'Produk_190', 'Produk_191', 'Produk_192',\n",
              "       'Produk_193', 'Produk_194', 'Produk_195', 'Produk_196',\n",
              "       'Produk_197', 'Produk_198', 'Produk_199', 'Produk_200',\n",
              "       'Produk_201', 'Produk_202', 'Produk_203', 'Produk_204',\n",
              "       'Produk_205', 'Produk_206', 'Produk_207', 'Produk_208',\n",
              "       'Produk_209', 'Produk_210', 'Produk_211', 'Produk_212',\n",
              "       'Produk_213', 'Produk_214', 'Produk_215', 'Produk_216',\n",
              "       'Produk_217', 'Produk_218', 'Produk_219', 'Produk_220',\n",
              "       'Produk_221', 'Produk_222', 'Produk_223', 'Produk_224',\n",
              "       'Produk_225', 'Produk_226', 'Produk_227', 'Produk_228',\n",
              "       'Produk_229', 'Produk_230', 'Produk_231', 'Produk_232',\n",
              "       'Produk_233', 'Produk_234', 'Produk_235', 'Produk_236',\n",
              "       'Produk_237', 'Produk_238', 'Produk_239', 'Produk_240',\n",
              "       'Produk_241', 'Produk_242', 'Produk_243', 'Produk_244',\n",
              "       'Produk_245', 'Produk_246', 'Produk_247', 'Produk_248',\n",
              "       'Produk_249', 'Produk_250', 'Produk_251', 'Produk_252',\n",
              "       'Produk_253', 'Produk_254', 'Produk_255', 'Produk_256',\n",
              "       'Produk_257', 'Produk_258', 'Produk_259', 'Produk_260',\n",
              "       'Produk_261', 'Produk_262', 'Produk_263', 'Produk_264',\n",
              "       'Produk_265', 'Produk_266', 'Produk_267', 'Produk_268',\n",
              "       'Produk_269', 'Produk_270', 'Produk_271', 'Produk_272',\n",
              "       'Produk_273', 'Produk_274', 'Produk_275', 'Produk_276',\n",
              "       'Produk_277', 'Produk_278', 'Produk_279', 'Produk_280',\n",
              "       'Produk_281', 'Produk_282', 'Produk_283', 'Produk_284',\n",
              "       'Produk_285', 'Produk_286', 'Produk_287', 'Produk_288',\n",
              "       'Produk_289', 'Produk_290', 'Produk_291', 'Produk_292',\n",
              "       'Produk_293', 'Produk_294', 'Produk_295', 'Produk_296',\n",
              "       'Produk_297', 'Produk_298', 'Produk_299', 'Produk_300',\n",
              "       'Produk_301', 'Produk_302', 'Produk_303', 'Produk_304',\n",
              "       'Produk_305', 'Produk_306', 'Produk_307', 'Produk_308',\n",
              "       'Produk_309', 'Produk_310', 'Produk_311', 'Produk_312',\n",
              "       'Produk_313', 'Produk_314', 'Produk_315', 'Produk_316',\n",
              "       'Produk_317', 'Produk_318', 'Produk_319', 'Produk_320',\n",
              "       'Produk_321', 'Produk_322', 'Produk_323', 'Produk_324',\n",
              "       'Produk_325', 'Produk_326', 'Produk_327', 'Produk_328',\n",
              "       'Produk_329', 'Produk_330', 'Produk_331', 'Produk_332',\n",
              "       'Produk_333', 'Produk_334', 'Produk_335', 'Produk_336',\n",
              "       'Produk_337', 'Produk_338', 'Produk_339', 'Produk_340',\n",
              "       'Produk_341', 'Produk_342', 'Produk_343', 'Produk_344',\n",
              "       'Produk_345', 'Produk_346', 'Produk_347', 'Produk_348',\n",
              "       'Produk_349', 'Produk_350', 'Produk_351', 'Produk_352',\n",
              "       'Produk_353', 'Produk_354', 'Produk_355', 'Produk_356',\n",
              "       'Produk_357', 'Produk_358', 'Produk_359', 'Produk_360',\n",
              "       'Produk_361', 'Produk_362', 'Produk_363', 'Produk_364',\n",
              "       'Produk_365', 'Produk_366', 'Produk_367', 'Produk_368',\n",
              "       'Produk_369', 'Produk_370', 'Produk_371', 'Produk_372',\n",
              "       'Produk_373', 'Produk_374', 'Produk_375', 'Produk_376',\n",
              "       'Produk_377', 'Produk_378', 'Produk_379', 'Produk_380',\n",
              "       'Produk_381', 'Produk_382', 'Produk_383', 'Produk_384',\n",
              "       'Produk_385', 'Produk_386', 'Produk_387', 'Produk_388',\n",
              "       'Produk_389', 'Produk_390', 'Produk_391', 'Produk_392',\n",
              "       'Produk_393', 'Produk_394', 'Produk_395', 'Produk_396',\n",
              "       'Produk_397', 'Produk_398', 'Produk_399', 'Produk_400',\n",
              "       'Produk_401', 'Produk_402', 'Produk_403', 'Produk_404',\n",
              "       'Produk_405', 'Produk_406', 'Produk_407', 'Produk_408',\n",
              "       'Produk_409', 'Produk_410', 'Produk_411', 'Produk_412',\n",
              "       'Produk_413', 'Produk_414', 'Produk_415', 'Produk_416',\n",
              "       'Produk_417', 'Produk_418', 'Produk_419', 'Produk_420',\n",
              "       'Produk_421', 'Produk_422', 'Produk_423', 'Produk_424',\n",
              "       'Produk_425', 'Produk_426', 'Produk_427', 'Produk_428',\n",
              "       'Produk_429', 'Produk_430', 'Produk_431', 'Produk_432',\n",
              "       'Produk_433', 'Produk_434', 'Produk_435', 'Produk_436',\n",
              "       'Produk_437', 'Produk_438', 'Produk_439', 'Produk_440',\n",
              "       'Produk_441', 'Produk_442', 'Produk_443', 'Produk_444',\n",
              "       'Produk_445', 'Produk_446', 'Produk_447', 'Produk_448',\n",
              "       'Produk_449', 'Produk_450', 'Produk_451', 'Produk_452',\n",
              "       'Produk_453', 'Produk_454', 'Produk_455', 'Produk_456',\n",
              "       'Produk_457', 'Produk_458', 'Produk_459', 'Produk_460',\n",
              "       'Produk_461', 'Produk_462', 'Produk_463', 'Produk_464',\n",
              "       'Produk_465', 'Produk_466', 'Produk_467', 'Produk_468',\n",
              "       'Produk_469', 'Produk_470', 'Produk_471', 'Produk_472',\n",
              "       'Produk_473', 'Produk_474', 'Produk_475', 'Produk_476',\n",
              "       'Produk_477', 'Produk_478', 'Produk_479', 'Produk_480',\n",
              "       'Produk_481', 'Produk_482', 'Produk_483', 'Produk_484',\n",
              "       'Produk_485', 'Produk_486', 'Produk_487', 'Produk_488',\n",
              "       'Produk_489', 'Produk_490', 'Produk_491', 'Produk_492',\n",
              "       'Produk_493', 'Produk_494', 'Produk_495', 'Produk_496',\n",
              "       'Produk_497', 'Produk_498', 'Produk_499', 'Produk_500',\n",
              "       'Produk_501', 'Produk_502', 'Produk_503', 'Produk_504',\n",
              "       'Produk_505', 'Produk_506', 'Produk_507', 'Produk_508',\n",
              "       'Produk_509', 'Produk_510', 'Produk_511', 'Produk_512',\n",
              "       'Produk_513', 'Produk_514', 'Produk_515', 'Produk_516',\n",
              "       'Produk_517', 'Produk_518', 'Produk_519', 'Produk_520',\n",
              "       'Produk_521', 'Produk_522', 'Produk_523', 'Produk_524',\n",
              "       'Produk_525', 'Produk_526', 'Produk_527', 'Produk_528',\n",
              "       'Produk_529', 'Produk_530', 'Produk_531', 'Produk_532',\n",
              "       'Produk_533', 'Produk_534', 'Produk_535', 'Produk_536',\n",
              "       'Produk_537', 'Produk_538', 'Produk_539', 'Produk_540',\n",
              "       'Produk_541', 'Produk_542', 'Produk_543', 'Produk_544',\n",
              "       'Produk_545', 'Produk_546', 'Produk_547', 'Produk_548',\n",
              "       'Produk_549', 'Produk_550'], dtype=object)"
            ]
          },
          "metadata": {},
          "execution_count": 41
        }
      ]
    },
    {
      "cell_type": "markdown",
      "source": [
        "Untuk kolom kategori dan negara_asal akan menggunakan One-Hot Encoding.\n",
        "Kolom kategori menggunakan One-Hot Encoding karena jenis produk seperti \"Laptop\", \"Handphone\", \"Aksesoris\", dan lainnya tidak memiliki urutan atau hierarki tertentu, sehingga representasi numerik dengan Label Encoding bisa menyebabkan kesalahan interpretasi oleh model. Dengan One-Hot Encoding, setiap kategori memiliki kolom sendiri dengan nilai biner (0 atau 1), yang lebih sesuai untuk kategori yang tidak memiliki hubungan ordinal.\n",
        "\n",
        "Kolom negara_asal menggunakan Label Encoding karena jumlah kategorinya sedikit dan tidak terlalu memengaruhi interpretasi data. Dengan hanya tiga negara seperti \"China\", \"USA\", dan \"Jepang\", representasi numerik lebih efisien dibandingkan One-Hot Encoding, yang akan menghasilkan tiga kolom tambahan dan meningkatkan dimensi dataset tanpa manfaat yang signifikan."
      ],
      "metadata": {
        "id": "lup4x8lP_Gc2"
      }
    },
    {
      "cell_type": "markdown",
      "source": [
        "**Kategori**"
      ],
      "metadata": {
        "id": "fntHWqVOCO55"
      }
    },
    {
      "cell_type": "code",
      "source": [
        "data['jenis']=data['kategori']\n",
        "data=pd.get_dummies(data, columns=['jenis'], prefix='jenis')"
      ],
      "metadata": {
        "id": "HdQr1OJqCL4g"
      },
      "execution_count": null,
      "outputs": []
    },
    {
      "cell_type": "code",
      "source": [
        "data.info()"
      ],
      "metadata": {
        "colab": {
          "base_uri": "https://localhost:8080/"
        },
        "id": "do5pZt0kCsId",
        "outputId": "3b97c57e-ed4c-4510-9227-64af718151aa"
      },
      "execution_count": 86,
      "outputs": [
        {
          "output_type": "stream",
          "name": "stdout",
          "text": [
            "<class 'pandas.core.frame.DataFrame'>\n",
            "RangeIndex: 11 entries, 0 to 10\n",
            "Data columns (total 15 columns):\n",
            " #   Column           Non-Null Count  Dtype \n",
            "---  ------           --------------  ----- \n",
            " 0   negara_asal      11 non-null     object\n",
            " 1   benua_Asia       11 non-null     bool  \n",
            " 2   benua_Australia  11 non-null     bool  \n",
            " 3   benua_Europe     11 non-null     bool  \n",
            " 4   benua_Others     11 non-null     bool  \n",
            " 5   benua_America    11 non-null     bool  \n",
            " 6   benua_Asia       11 non-null     bool  \n",
            " 7   benua_Australia  11 non-null     bool  \n",
            " 8   benua_Europe     11 non-null     bool  \n",
            " 9   benua_Others     11 non-null     bool  \n",
            " 10  benua_America    11 non-null     bool  \n",
            " 11  benua_Asia       11 non-null     bool  \n",
            " 12  benua_Australia  11 non-null     bool  \n",
            " 13  benua_Europe     11 non-null     bool  \n",
            " 14  benua_Others     11 non-null     bool  \n",
            "dtypes: bool(14), object(1)\n",
            "memory usage: 374.0+ bytes\n"
          ]
        }
      ]
    },
    {
      "cell_type": "markdown",
      "source": [
        "**negara_asal ke benua**"
      ],
      "metadata": {
        "id": "SoUK8WS2Dcfd"
      }
    },
    {
      "cell_type": "code",
      "source": [
        "# Buat dictionary untuk mapping negara ke benua\n",
        "negara_asal_to_benua = {\n",
        "    'China': 'Asia',\n",
        "    'USA': 'America',\n",
        "    'India': 'Asia',\n",
        "    'Canada': 'America',\n",
        "    'Australia': 'Australia',\n",
        "    'Japan': 'Asia',\n",
        "    'Germany': 'Europe',\n",
        "    'France': 'Europe',\n",
        "    'South Korea': 'Asia',\n",
        "    'Taiwan': 'Asia',\n",
        "    'UK': 'Europe'\n",
        "}\n",
        "\n",
        "# Ubah negara menjadi region (benua)\n",
        "data['benua'] = data['negara_asal'].map(negara_asal_to_benua).fillna('Others')\n",
        "\n",
        "# One-Hot Encoding pada benua, bukan negara_asal\n",
        "data = pd.get_dummies(data, columns=['benua'], prefix='benua')"
      ],
      "metadata": {
        "id": "ST_SJ7UrvizM"
      },
      "execution_count": 84,
      "outputs": []
    },
    {
      "cell_type": "code",
      "source": [
        "data.info()"
      ],
      "metadata": {
        "colab": {
          "base_uri": "https://localhost:8080/"
        },
        "id": "wdvg8RXiyk04",
        "outputId": "a102fb97-eb64-40a6-f4e9-0ceaff613f54"
      },
      "execution_count": 85,
      "outputs": [
        {
          "output_type": "stream",
          "name": "stdout",
          "text": [
            "<class 'pandas.core.frame.DataFrame'>\n",
            "RangeIndex: 11 entries, 0 to 10\n",
            "Data columns (total 15 columns):\n",
            " #   Column           Non-Null Count  Dtype \n",
            "---  ------           --------------  ----- \n",
            " 0   negara_asal      11 non-null     object\n",
            " 1   benua_Asia       11 non-null     bool  \n",
            " 2   benua_Australia  11 non-null     bool  \n",
            " 3   benua_Europe     11 non-null     bool  \n",
            " 4   benua_Others     11 non-null     bool  \n",
            " 5   benua_America    11 non-null     bool  \n",
            " 6   benua_Asia       11 non-null     bool  \n",
            " 7   benua_Australia  11 non-null     bool  \n",
            " 8   benua_Europe     11 non-null     bool  \n",
            " 9   benua_Others     11 non-null     bool  \n",
            " 10  benua_America    11 non-null     bool  \n",
            " 11  benua_Asia       11 non-null     bool  \n",
            " 12  benua_Australia  11 non-null     bool  \n",
            " 13  benua_Europe     11 non-null     bool  \n",
            " 14  benua_Others     11 non-null     bool  \n",
            "dtypes: bool(14), object(1)\n",
            "memory usage: 374.0+ bytes\n"
          ]
        }
      ]
    }
  ]
}